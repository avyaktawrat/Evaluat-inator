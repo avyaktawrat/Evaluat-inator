{
  "nbformat": 4,
  "nbformat_minor": 0,
  "metadata": {
    "colab": {
      "name": "Movie Recommender using PyTorch.ipynb",
      "provenance": [],
      "collapsed_sections": [],
      "include_colab_link": true
    },
    "kernelspec": {
      "name": "python3",
      "display_name": "Python 3"
    },
    "accelerator": "GPU"
  },
  "cells": [
    {
      "cell_type": "markdown",
      "metadata": {
        "id": "view-in-github",
        "colab_type": "text"
      },
      "source": [
        "<a href=\"https://colab.research.google.com/github/avyaktawrat/Evaluat-inator/blob/master/Embeddings_DL.ipynb\" target=\"_parent\"><img src=\"https://colab.research.google.com/assets/colab-badge.svg\" alt=\"Open In Colab\"/></a>"
      ]
    },
    {
      "cell_type": "code",
      "metadata": {
        "id": "zH1BuEu30WVM",
        "colab_type": "code",
        "colab": {}
      },
      "source": [
        "import numpy as np\n",
        "import pandas as pd\n",
        "import torch\n",
        "import torch.nn as nn\n",
        "\n",
        "import torch.optim as optim\n",
        "import torch.utils.data\n",
        "from torch.autograd import Variable"
      ],
      "execution_count": 0,
      "outputs": []
    },
    {
      "cell_type": "code",
      "metadata": {
        "id": "nhg0x1_k2loU",
        "colab_type": "code",
        "colab": {}
      },
      "source": [
        "movies = pd.read_csv('https://raw.githubusercontent.com/srp98/Movie-Recommender-using-RBM/master/ml-1m/movies.dat',sep='::',header=None,engine='python',encoding='latin-1')\n",
        "users = pd.read_csv('https://raw.githubusercontent.com/srp98/Movie-Recommender-using-RBM/master/ml-1m/users.dat',sep='::',header=None,engine='python',encoding='latin-1')\n",
        "ratings = pd.read_csv('https://raw.githubusercontent.com/srp98/Movie-Recommender-using-RBM/master/ml-1m/ratings.dat',sep='::',header=None,engine='python',encoding='latin-1')"
      ],
      "execution_count": 0,
      "outputs": []
    },
    {
      "cell_type": "code",
      "metadata": {
        "id": "zHYZqyldzRNx",
        "colab_type": "code",
        "colab": {}
      },
      "source": [
        "movies.columns = ['movieID', 'title', 'genres']\n",
        "users.columns = ['userId', 'gender', 'zipcode', 'age_desc', 'occ_desc']\n",
        "ratings.columns = ['userId', 'movieId', 'rating', 'timestamp']"
      ],
      "execution_count": 0,
      "outputs": []
    },
    {
      "cell_type": "code",
      "metadata": {
        "id": "cVH5SzkXgUuI",
        "colab_type": "code",
        "colab": {}
      },
      "source": [
        "# training_set = pd.read_csv('https://raw.githubusercontent.com/avyaktawrat/Evaluat-inator/master/data/u1.base', delimiter='\\t',header=None)\n",
        "# test_set = pd.read_csv('https://raw.githubusercontent.com/avyaktawrat/Evaluat-inator/master/data/u1.test', delimiter='\\t',header=None)"
      ],
      "execution_count": 0,
      "outputs": []
    },
    {
      "cell_type": "code",
      "metadata": {
        "id": "kF0gejb6rCOg",
        "colab_type": "code",
        "outputId": "d3070730-65c0-4a51-abda-74053d5ac821",
        "colab": {
          "base_uri": "https://localhost:8080/",
          "height": 195
        }
      },
      "source": [
        "movies.head()"
      ],
      "execution_count": 0,
      "outputs": [
        {
          "output_type": "execute_result",
          "data": {
            "text/html": [
              "<div>\n",
              "<style scoped>\n",
              "    .dataframe tbody tr th:only-of-type {\n",
              "        vertical-align: middle;\n",
              "    }\n",
              "\n",
              "    .dataframe tbody tr th {\n",
              "        vertical-align: top;\n",
              "    }\n",
              "\n",
              "    .dataframe thead th {\n",
              "        text-align: right;\n",
              "    }\n",
              "</style>\n",
              "<table border=\"1\" class=\"dataframe\">\n",
              "  <thead>\n",
              "    <tr style=\"text-align: right;\">\n",
              "      <th></th>\n",
              "      <th>movieID</th>\n",
              "      <th>title</th>\n",
              "      <th>genres</th>\n",
              "    </tr>\n",
              "  </thead>\n",
              "  <tbody>\n",
              "    <tr>\n",
              "      <th>0</th>\n",
              "      <td>1</td>\n",
              "      <td>Toy Story (1995)</td>\n",
              "      <td>Animation|Children's|Comedy</td>\n",
              "    </tr>\n",
              "    <tr>\n",
              "      <th>1</th>\n",
              "      <td>2</td>\n",
              "      <td>Jumanji (1995)</td>\n",
              "      <td>Adventure|Children's|Fantasy</td>\n",
              "    </tr>\n",
              "    <tr>\n",
              "      <th>2</th>\n",
              "      <td>3</td>\n",
              "      <td>Grumpier Old Men (1995)</td>\n",
              "      <td>Comedy|Romance</td>\n",
              "    </tr>\n",
              "    <tr>\n",
              "      <th>3</th>\n",
              "      <td>4</td>\n",
              "      <td>Waiting to Exhale (1995)</td>\n",
              "      <td>Comedy|Drama</td>\n",
              "    </tr>\n",
              "    <tr>\n",
              "      <th>4</th>\n",
              "      <td>5</td>\n",
              "      <td>Father of the Bride Part II (1995)</td>\n",
              "      <td>Comedy</td>\n",
              "    </tr>\n",
              "  </tbody>\n",
              "</table>\n",
              "</div>"
            ],
            "text/plain": [
              "   movieID                               title                        genres\n",
              "0        1                    Toy Story (1995)   Animation|Children's|Comedy\n",
              "1        2                      Jumanji (1995)  Adventure|Children's|Fantasy\n",
              "2        3             Grumpier Old Men (1995)                Comedy|Romance\n",
              "3        4            Waiting to Exhale (1995)                  Comedy|Drama\n",
              "4        5  Father of the Bride Part II (1995)                        Comedy"
            ]
          },
          "metadata": {
            "tags": []
          },
          "execution_count": 5
        }
      ]
    },
    {
      "cell_type": "code",
      "metadata": {
        "id": "Kt-XAz3lyyMV",
        "colab_type": "code",
        "colab": {}
      },
      "source": [
        "# np.unique(movies['genres'].values)"
      ],
      "execution_count": 0,
      "outputs": []
    },
    {
      "cell_type": "code",
      "metadata": {
        "id": "iThuQ3z2yrvq",
        "colab_type": "code",
        "outputId": "5114c493-f23d-4dde-cfb1-1a04b5d325ba",
        "colab": {
          "base_uri": "https://localhost:8080/",
          "height": 193
        }
      },
      "source": [
        "movies.info()"
      ],
      "execution_count": 0,
      "outputs": [
        {
          "output_type": "stream",
          "text": [
            "<class 'pandas.core.frame.DataFrame'>\n",
            "RangeIndex: 3883 entries, 0 to 3882\n",
            "Data columns (total 3 columns):\n",
            " #   Column   Non-Null Count  Dtype \n",
            "---  ------   --------------  ----- \n",
            " 0   movieID  3883 non-null   int64 \n",
            " 1   title    3883 non-null   object\n",
            " 2   genres   3883 non-null   object\n",
            "dtypes: int64(1), object(2)\n",
            "memory usage: 91.1+ KB\n"
          ],
          "name": "stdout"
        }
      ]
    },
    {
      "cell_type": "code",
      "metadata": {
        "id": "Ou0AHJUHrEIK",
        "colab_type": "code",
        "outputId": "edb8cbd2-e1d9-4e2a-bdc4-75583efe5c39",
        "colab": {
          "base_uri": "https://localhost:8080/",
          "height": 195
        }
      },
      "source": [
        "users.head()"
      ],
      "execution_count": 0,
      "outputs": [
        {
          "output_type": "execute_result",
          "data": {
            "text/html": [
              "<div>\n",
              "<style scoped>\n",
              "    .dataframe tbody tr th:only-of-type {\n",
              "        vertical-align: middle;\n",
              "    }\n",
              "\n",
              "    .dataframe tbody tr th {\n",
              "        vertical-align: top;\n",
              "    }\n",
              "\n",
              "    .dataframe thead th {\n",
              "        text-align: right;\n",
              "    }\n",
              "</style>\n",
              "<table border=\"1\" class=\"dataframe\">\n",
              "  <thead>\n",
              "    <tr style=\"text-align: right;\">\n",
              "      <th></th>\n",
              "      <th>userId</th>\n",
              "      <th>gender</th>\n",
              "      <th>zipcode</th>\n",
              "      <th>age_desc</th>\n",
              "      <th>occ_desc</th>\n",
              "    </tr>\n",
              "  </thead>\n",
              "  <tbody>\n",
              "    <tr>\n",
              "      <th>0</th>\n",
              "      <td>1</td>\n",
              "      <td>F</td>\n",
              "      <td>1</td>\n",
              "      <td>10</td>\n",
              "      <td>48067</td>\n",
              "    </tr>\n",
              "    <tr>\n",
              "      <th>1</th>\n",
              "      <td>2</td>\n",
              "      <td>M</td>\n",
              "      <td>56</td>\n",
              "      <td>16</td>\n",
              "      <td>70072</td>\n",
              "    </tr>\n",
              "    <tr>\n",
              "      <th>2</th>\n",
              "      <td>3</td>\n",
              "      <td>M</td>\n",
              "      <td>25</td>\n",
              "      <td>15</td>\n",
              "      <td>55117</td>\n",
              "    </tr>\n",
              "    <tr>\n",
              "      <th>3</th>\n",
              "      <td>4</td>\n",
              "      <td>M</td>\n",
              "      <td>45</td>\n",
              "      <td>7</td>\n",
              "      <td>02460</td>\n",
              "    </tr>\n",
              "    <tr>\n",
              "      <th>4</th>\n",
              "      <td>5</td>\n",
              "      <td>M</td>\n",
              "      <td>25</td>\n",
              "      <td>20</td>\n",
              "      <td>55455</td>\n",
              "    </tr>\n",
              "  </tbody>\n",
              "</table>\n",
              "</div>"
            ],
            "text/plain": [
              "   userId gender  zipcode  age_desc occ_desc\n",
              "0       1      F        1        10    48067\n",
              "1       2      M       56        16    70072\n",
              "2       3      M       25        15    55117\n",
              "3       4      M       45         7    02460\n",
              "4       5      M       25        20    55455"
            ]
          },
          "metadata": {
            "tags": []
          },
          "execution_count": 8
        }
      ]
    },
    {
      "cell_type": "code",
      "metadata": {
        "id": "7rSlgq92yqOk",
        "colab_type": "code",
        "outputId": "56f228f0-48b1-464f-fcfe-c22fce6b382d",
        "colab": {
          "base_uri": "https://localhost:8080/",
          "height": 228
        }
      },
      "source": [
        "users.info()"
      ],
      "execution_count": 0,
      "outputs": [
        {
          "output_type": "stream",
          "text": [
            "<class 'pandas.core.frame.DataFrame'>\n",
            "RangeIndex: 6040 entries, 0 to 6039\n",
            "Data columns (total 5 columns):\n",
            " #   Column    Non-Null Count  Dtype \n",
            "---  ------    --------------  ----- \n",
            " 0   userId    6040 non-null   int64 \n",
            " 1   gender    6040 non-null   object\n",
            " 2   zipcode   6040 non-null   int64 \n",
            " 3   age_desc  6040 non-null   int64 \n",
            " 4   occ_desc  6040 non-null   object\n",
            "dtypes: int64(3), object(2)\n",
            "memory usage: 236.1+ KB\n"
          ],
          "name": "stdout"
        }
      ]
    },
    {
      "cell_type": "code",
      "metadata": {
        "id": "3nvml_2rrFzS",
        "colab_type": "code",
        "outputId": "562effdb-4040-4c48-8335-0be992fd90d7",
        "colab": {
          "base_uri": "https://localhost:8080/",
          "height": 195
        }
      },
      "source": [
        "ratings.head()"
      ],
      "execution_count": 0,
      "outputs": [
        {
          "output_type": "execute_result",
          "data": {
            "text/html": [
              "<div>\n",
              "<style scoped>\n",
              "    .dataframe tbody tr th:only-of-type {\n",
              "        vertical-align: middle;\n",
              "    }\n",
              "\n",
              "    .dataframe tbody tr th {\n",
              "        vertical-align: top;\n",
              "    }\n",
              "\n",
              "    .dataframe thead th {\n",
              "        text-align: right;\n",
              "    }\n",
              "</style>\n",
              "<table border=\"1\" class=\"dataframe\">\n",
              "  <thead>\n",
              "    <tr style=\"text-align: right;\">\n",
              "      <th></th>\n",
              "      <th>userId</th>\n",
              "      <th>movieId</th>\n",
              "      <th>rating</th>\n",
              "      <th>timestamp</th>\n",
              "    </tr>\n",
              "  </thead>\n",
              "  <tbody>\n",
              "    <tr>\n",
              "      <th>0</th>\n",
              "      <td>1</td>\n",
              "      <td>1193</td>\n",
              "      <td>5</td>\n",
              "      <td>978300760</td>\n",
              "    </tr>\n",
              "    <tr>\n",
              "      <th>1</th>\n",
              "      <td>1</td>\n",
              "      <td>661</td>\n",
              "      <td>3</td>\n",
              "      <td>978302109</td>\n",
              "    </tr>\n",
              "    <tr>\n",
              "      <th>2</th>\n",
              "      <td>1</td>\n",
              "      <td>914</td>\n",
              "      <td>3</td>\n",
              "      <td>978301968</td>\n",
              "    </tr>\n",
              "    <tr>\n",
              "      <th>3</th>\n",
              "      <td>1</td>\n",
              "      <td>3408</td>\n",
              "      <td>4</td>\n",
              "      <td>978300275</td>\n",
              "    </tr>\n",
              "    <tr>\n",
              "      <th>4</th>\n",
              "      <td>1</td>\n",
              "      <td>2355</td>\n",
              "      <td>5</td>\n",
              "      <td>978824291</td>\n",
              "    </tr>\n",
              "  </tbody>\n",
              "</table>\n",
              "</div>"
            ],
            "text/plain": [
              "   userId  movieId  rating  timestamp\n",
              "0       1     1193       5  978300760\n",
              "1       1      661       3  978302109\n",
              "2       1      914       3  978301968\n",
              "3       1     3408       4  978300275\n",
              "4       1     2355       5  978824291"
            ]
          },
          "metadata": {
            "tags": []
          },
          "execution_count": 10
        }
      ]
    },
    {
      "cell_type": "code",
      "metadata": {
        "id": "-0NyeaMAyltY",
        "colab_type": "code",
        "outputId": "78e3e495-e413-4ae3-c8d4-6a45d55e17ac",
        "colab": {
          "base_uri": "https://localhost:8080/",
          "height": 210
        }
      },
      "source": [
        "ratings.info()"
      ],
      "execution_count": 0,
      "outputs": [
        {
          "output_type": "stream",
          "text": [
            "<class 'pandas.core.frame.DataFrame'>\n",
            "RangeIndex: 1000209 entries, 0 to 1000208\n",
            "Data columns (total 4 columns):\n",
            " #   Column     Non-Null Count    Dtype\n",
            "---  ------     --------------    -----\n",
            " 0   userId     1000209 non-null  int64\n",
            " 1   movieId    1000209 non-null  int64\n",
            " 2   rating     1000209 non-null  int64\n",
            " 3   timestamp  1000209 non-null  int64\n",
            "dtypes: int64(4)\n",
            "memory usage: 30.5 MB\n"
          ],
          "name": "stdout"
        }
      ]
    },
    {
      "cell_type": "code",
      "metadata": {
        "id": "yn1ChvUYsnJ6",
        "colab_type": "code",
        "colab": {}
      },
      "source": [
        "nb_users = int(max(max(ratings.iloc[:,0]), max(ratings.iloc[:,0])))\n",
        "nb_movies = int(max(max(ratings.iloc[:,1]), max(ratings.iloc[:,1])))"
      ],
      "execution_count": 0,
      "outputs": []
    },
    {
      "cell_type": "code",
      "metadata": {
        "id": "R9B7I2pxwVYl",
        "colab_type": "code",
        "outputId": "3b8d8ac9-f8da-47b0-f5e2-7e6af9f29649",
        "colab": {
          "base_uri": "https://localhost:8080/",
          "height": 52
        }
      },
      "source": [
        "print(nb_users)\n",
        "print(nb_movies)"
      ],
      "execution_count": 0,
      "outputs": [
        {
          "output_type": "stream",
          "text": [
            "6040\n",
            "3952\n"
          ],
          "name": "stdout"
        }
      ]
    },
    {
      "cell_type": "code",
      "metadata": {
        "id": "HFvrhYaS98iY",
        "colab_type": "code",
        "outputId": "69fa9f63-16e7-4fa4-9fd0-87a82897d2fc",
        "colab": {
          "base_uri": "https://localhost:8080/",
          "height": 52
        }
      },
      "source": [
        "#removing movies which have number of ratings less than 50\n",
        "#and creating list of popular movies and subsequently creating dataframe\n",
        "#with ratings of movies which are in popular movies list\n",
        "popularity_thres = 50\n",
        "df_movies_cnt = pd.DataFrame(ratings.groupby('movieId').size(), columns=['count'])\n",
        "popular_movies = list(set(df_movies_cnt.query('count >= @popularity_thres').index))\n",
        "df_ratings_drop_movies = ratings[ratings.movieId.isin(popular_movies)]\n",
        "print('shape of original ratings data: ', ratings.shape)\n",
        "print('shape of ratings data after dropping unpopular movies: ', df_ratings_drop_movies.shape)"
      ],
      "execution_count": 0,
      "outputs": [
        {
          "output_type": "stream",
          "text": [
            "shape of original ratings data:  (1000209, 4)\n",
            "shape of ratings data after dropping unpopular movies:  (977839, 4)\n"
          ],
          "name": "stdout"
        }
      ]
    },
    {
      "cell_type": "code",
      "metadata": {
        "id": "Vevp_9ZH98a-",
        "colab_type": "code",
        "outputId": "0e294f4d-2cc3-4248-d465-e24e2cd55f52",
        "colab": {
          "base_uri": "https://localhost:8080/",
          "height": 52
        }
      },
      "source": [
        "# filter data\n",
        "#drop ratings given by non-active users i.e. those who have given less than 50 ratings\n",
        "#further creating data-frame with the users that are active and have given ratings to popular movies\n",
        "df_users_cnt = pd.DataFrame(df_ratings_drop_movies.groupby('userId').size(), columns=['count'])\n",
        "ratings_thres = 50\n",
        "active_users = list(set(df_users_cnt.query('count >= @ratings_thres').index))\n",
        "df_ratings_drop_users = df_ratings_drop_movies[df_ratings_drop_movies.userId.isin(active_users)]\n",
        "print('shape of original ratings data: ', ratings.shape)\n",
        "print('shape of ratings data after dropping both unpopular movies and inactive users: ', df_ratings_drop_users.shape)"
      ],
      "execution_count": 0,
      "outputs": [
        {
          "output_type": "stream",
          "text": [
            "shape of original ratings data:  (1000209, 4)\n",
            "shape of ratings data after dropping both unpopular movies and inactive users:  (920334, 4)\n"
          ],
          "name": "stdout"
        }
      ]
    },
    {
      "cell_type": "markdown",
      "metadata": {
        "id": "XPN8cOBUwsg-",
        "colab_type": "text"
      },
      "source": [
        "## Trying for a single user"
      ]
    },
    {
      "cell_type": "code",
      "metadata": {
        "id": "5-QN1GJ7wlIY",
        "colab_type": "code",
        "outputId": "c002bba5-d6a2-421d-d7c9-843bfeb9092c",
        "colab": {
          "base_uri": "https://localhost:8080/",
          "height": 52
        }
      },
      "source": [
        "user_id = ratings['userId'].values[0]\n",
        "movies_rated_by_user = ratings['movieId'][ratings['userId'] == user_id]\n",
        "ratings_given_by_user = ratings['rating'][ratings['userId'] == user_id]\n",
        "print(len(movies_rated_by_user))\n",
        "print(len(ratings_given_by_user))"
      ],
      "execution_count": 0,
      "outputs": [
        {
          "output_type": "stream",
          "text": [
            "53\n",
            "53\n"
          ],
          "name": "stdout"
        }
      ]
    },
    {
      "cell_type": "code",
      "metadata": {
        "id": "lGeuzy_UxIEv",
        "colab_type": "code",
        "outputId": "58942d8a-fcb7-40af-bc0b-eb1df5f70f0b",
        "colab": {
          "base_uri": "https://localhost:8080/",
          "height": 580
        }
      },
      "source": [
        "print(movies_rated_by_user[:15])\n",
        "print(ratings_given_by_user[:15])"
      ],
      "execution_count": 0,
      "outputs": [
        {
          "output_type": "stream",
          "text": [
            "0     1193\n",
            "1      661\n",
            "2      914\n",
            "3     3408\n",
            "4     2355\n",
            "5     1197\n",
            "6     1287\n",
            "7     2804\n",
            "8      594\n",
            "9      919\n",
            "10     595\n",
            "11     938\n",
            "12    2398\n",
            "13    2918\n",
            "14    1035\n",
            "Name: movieId, dtype: int64\n",
            "0     5\n",
            "1     3\n",
            "2     3\n",
            "3     4\n",
            "4     5\n",
            "5     3\n",
            "6     5\n",
            "7     5\n",
            "8     4\n",
            "9     4\n",
            "10    5\n",
            "11    4\n",
            "12    4\n",
            "13    4\n",
            "14    5\n",
            "Name: rating, dtype: int64\n"
          ],
          "name": "stdout"
        }
      ]
    },
    {
      "cell_type": "code",
      "metadata": {
        "id": "4DNxRsUPdr1V",
        "colab_type": "code",
        "outputId": "3dc0fdb0-c951-4542-9949-5bb1840153cc",
        "colab": {
          "base_uri": "https://localhost:8080/",
          "height": 967
        }
      },
      "source": [
        "movies_rated_by_user"
      ],
      "execution_count": 0,
      "outputs": [
        {
          "output_type": "execute_result",
          "data": {
            "text/plain": [
              "0     1193\n",
              "1      661\n",
              "2      914\n",
              "3     3408\n",
              "4     2355\n",
              "5     1197\n",
              "6     1287\n",
              "7     2804\n",
              "8      594\n",
              "9      919\n",
              "10     595\n",
              "11     938\n",
              "12    2398\n",
              "13    2918\n",
              "14    1035\n",
              "15    2791\n",
              "16    2687\n",
              "17    2018\n",
              "18    3105\n",
              "19    2797\n",
              "20    2321\n",
              "21     720\n",
              "22    1270\n",
              "23     527\n",
              "24    2340\n",
              "25      48\n",
              "26    1097\n",
              "27    1721\n",
              "28    1545\n",
              "29     745\n",
              "30    2294\n",
              "31    3186\n",
              "32    1566\n",
              "33     588\n",
              "34    1907\n",
              "35     783\n",
              "36    1836\n",
              "37    1022\n",
              "38    2762\n",
              "39     150\n",
              "40       1\n",
              "41    1961\n",
              "42    1962\n",
              "43    2692\n",
              "44     260\n",
              "45    1028\n",
              "46    1029\n",
              "47    1207\n",
              "48    2028\n",
              "49     531\n",
              "50    3114\n",
              "51     608\n",
              "52    1246\n",
              "Name: movieId, dtype: int64"
            ]
          },
          "metadata": {
            "tags": []
          },
          "execution_count": 18
        }
      ]
    },
    {
      "cell_type": "code",
      "metadata": {
        "id": "B2RimlWXxT0T",
        "colab_type": "code",
        "colab": {}
      },
      "source": [
        "class Net(nn.Module):\n",
        "    def __init__(self, embedding_dim=300):\n",
        "        super(Net, self).__init__()\n",
        "        self.embedding_dim = embedding_dim\n",
        "        self.embedding = nn.Embedding(nb_movies, embedding_dim)\n",
        "        self.linear = nn.Sequential(nn.ReLU(),\n",
        "            nn.Linear(embedding_dim, 100),\n",
        "                                    nn.ReLU(),\n",
        "                                    # nn.Dropout(0.5),\n",
        "                                    # nn.Linear(200,100),\n",
        "                                    # nn.Tanh(),\n",
        "                                    # nn.Dropout(0.5),\n",
        "                                    nn.Linear(100,50),\n",
        "                                    nn.ReLU(),\n",
        "                                    # nn.Dropout(0.5),\n",
        "                                    nn.Linear(50,25),\n",
        "                                    nn.ReLU(),\n",
        "                                    # nn.Dropout(0.5),\n",
        "                                    # nn.Linear(25,12),\n",
        "                                    # nn.Tanh(),\n",
        "                                    # nn.Dropout(0.5),\n",
        "                                    nn.Linear(25,10),\n",
        "                                    nn.ReLU(),\n",
        "                                    # nn.Dropout(0.5),\n",
        "                                    # nn.Linear(6,3),\n",
        "                                    # nn.Tanh(),\n",
        "                                    # nn.Dropout(0.2),\n",
        "                                    nn.Linear(10,5),\n",
        "                                    nn.ReLU(),\n",
        "        )\n",
        "        self.softmax = nn.Softmax(dim=0)\n",
        "    def forward(self, x):\n",
        "        # x = torch.eye(nb_movies,dtype=torch.long)[x.item()]\n",
        "        x = self.embedding(x)\n",
        "        x = self.linear(x)\n",
        "        x = self.softmax(x)\n",
        "        return x"
      ],
      "execution_count": 0,
      "outputs": []
    },
    {
      "cell_type": "code",
      "metadata": {
        "id": "p1HYEv9cyHoL",
        "colab_type": "code",
        "outputId": "ce8c182f-199d-4dd1-c91e-3378ee4b1128",
        "colab": {
          "base_uri": "https://localhost:8080/",
          "height": 34
        }
      },
      "source": [
        "# Sanity Check\n",
        "net = Net()\n",
        "inp = torch.tensor(movies_rated_by_user.values[1], dtype=torch.long)\n",
        "out = net(inp)\n",
        "print(out.shape)"
      ],
      "execution_count": 0,
      "outputs": [
        {
          "output_type": "stream",
          "text": [
            "torch.Size([5])\n"
          ],
          "name": "stdout"
        }
      ]
    },
    {
      "cell_type": "code",
      "metadata": {
        "id": "znx2sZx4yHlp",
        "colab_type": "code",
        "colab": {}
      },
      "source": [
        "net = Net().cuda()\n",
        "criterion = nn.CrossEntropyLoss()\n",
        "optimizer = optim.Adam(net.parameters(), lr=0.0001, weight_decay=1e-6)"
      ],
      "execution_count": 0,
      "outputs": []
    },
    {
      "cell_type": "code",
      "metadata": {
        "id": "6MAqcbUTyHiu",
        "colab_type": "code",
        "outputId": "e074985a-8ca5-4253-cb50-fac0aa55c822",
        "colab": {
          "base_uri": "https://localhost:8080/",
          "height": 1000
        }
      },
      "source": [
        "from tqdm import tqdm\n",
        "train_losses = []\n",
        "for epoch in range(200):\n",
        "    train_loss = 0.0\n",
        "    for i in tqdm(range(len(movies_rated_by_user))):\n",
        "        X = torch.tensor(movies_rated_by_user.values[i], dtype=torch.long).cuda()\n",
        "        Y = torch.tensor(ratings_given_by_user.values[i]-1,dtype=torch.long).cuda()\n",
        "        net.zero_grad()\n",
        "        output = net(X)\n",
        "        loss = criterion(output.unsqueeze(0), Y.unsqueeze(0))\n",
        "        loss.backward()\n",
        "        optimizer.step()\n",
        "        train_loss += loss.item()\n",
        "    train_losses.append(train_loss / len(movies_rated_by_user))\n",
        "    print(\" Epoch: {}, Loss: {}\".format(epoch, train_losses[-1]))"
      ],
      "execution_count": 0,
      "outputs": [
        {
          "output_type": "stream",
          "text": [
            "100%|██████████| 53/53 [00:00<00:00, 198.77it/s]\n",
            " 36%|███▌      | 19/53 [00:00<00:00, 184.46it/s]"
          ],
          "name": "stderr"
        },
        {
          "output_type": "stream",
          "text": [
            " Epoch: 0, Loss: 1.6097425357350763\n"
          ],
          "name": "stdout"
        },
        {
          "output_type": "stream",
          "text": [
            "100%|██████████| 53/53 [00:00<00:00, 192.10it/s]\n",
            " 40%|███▉      | 21/53 [00:00<00:00, 202.29it/s]"
          ],
          "name": "stderr"
        },
        {
          "output_type": "stream",
          "text": [
            " Epoch: 1, Loss: 1.6022440644929994\n"
          ],
          "name": "stdout"
        },
        {
          "output_type": "stream",
          "text": [
            "100%|██████████| 53/53 [00:00<00:00, 203.20it/s]\n",
            " 42%|████▏     | 22/53 [00:00<00:00, 211.59it/s]"
          ],
          "name": "stderr"
        },
        {
          "output_type": "stream",
          "text": [
            " Epoch: 2, Loss: 1.5890620609499373\n"
          ],
          "name": "stdout"
        },
        {
          "output_type": "stream",
          "text": [
            "100%|██████████| 53/53 [00:00<00:00, 209.27it/s]\n",
            " 42%|████▏     | 22/53 [00:00<00:00, 212.98it/s]"
          ],
          "name": "stderr"
        },
        {
          "output_type": "stream",
          "text": [
            " Epoch: 3, Loss: 1.5705262804931064\n"
          ],
          "name": "stdout"
        },
        {
          "output_type": "stream",
          "text": [
            "100%|██████████| 53/53 [00:00<00:00, 200.11it/s]\n",
            " 36%|███▌      | 19/53 [00:00<00:00, 186.64it/s]"
          ],
          "name": "stderr"
        },
        {
          "output_type": "stream",
          "text": [
            " Epoch: 4, Loss: 1.5355273417706758\n"
          ],
          "name": "stdout"
        },
        {
          "output_type": "stream",
          "text": [
            "100%|██████████| 53/53 [00:00<00:00, 189.07it/s]\n",
            " 42%|████▏     | 22/53 [00:00<00:00, 212.59it/s]"
          ],
          "name": "stderr"
        },
        {
          "output_type": "stream",
          "text": [
            " Epoch: 5, Loss: 1.4757526753083714\n"
          ],
          "name": "stdout"
        },
        {
          "output_type": "stream",
          "text": [
            "100%|██████████| 53/53 [00:00<00:00, 206.80it/s]\n",
            " 43%|████▎     | 23/53 [00:00<00:00, 221.93it/s]"
          ],
          "name": "stderr"
        },
        {
          "output_type": "stream",
          "text": [
            " Epoch: 6, Loss: 1.4251454033941593\n"
          ],
          "name": "stdout"
        },
        {
          "output_type": "stream",
          "text": [
            "100%|██████████| 53/53 [00:00<00:00, 212.62it/s]\n",
            " 42%|████▏     | 22/53 [00:00<00:00, 216.34it/s]"
          ],
          "name": "stderr"
        },
        {
          "output_type": "stream",
          "text": [
            " Epoch: 7, Loss: 1.4045789365498524\n"
          ],
          "name": "stdout"
        },
        {
          "output_type": "stream",
          "text": [
            "100%|██████████| 53/53 [00:00<00:00, 206.82it/s]\n",
            " 36%|███▌      | 19/53 [00:00<00:00, 188.17it/s]"
          ],
          "name": "stderr"
        },
        {
          "output_type": "stream",
          "text": [
            " Epoch: 8, Loss: 1.3971680447740376\n"
          ],
          "name": "stdout"
        },
        {
          "output_type": "stream",
          "text": [
            "100%|██████████| 53/53 [00:00<00:00, 196.04it/s]\n",
            " 42%|████▏     | 22/53 [00:00<00:00, 218.06it/s]"
          ],
          "name": "stderr"
        },
        {
          "output_type": "stream",
          "text": [
            " Epoch: 9, Loss: 1.3934595719823297\n"
          ],
          "name": "stdout"
        },
        {
          "output_type": "stream",
          "text": [
            "100%|██████████| 53/53 [00:00<00:00, 208.42it/s]\n",
            " 42%|████▏     | 22/53 [00:00<00:00, 217.73it/s]"
          ],
          "name": "stderr"
        },
        {
          "output_type": "stream",
          "text": [
            " Epoch: 10, Loss: 1.39082510966175\n"
          ],
          "name": "stdout"
        },
        {
          "output_type": "stream",
          "text": [
            "100%|██████████| 53/53 [00:00<00:00, 211.72it/s]\n",
            " 40%|███▉      | 21/53 [00:00<00:00, 208.24it/s]"
          ],
          "name": "stderr"
        },
        {
          "output_type": "stream",
          "text": [
            " Epoch: 11, Loss: 1.3883375570459187\n"
          ],
          "name": "stdout"
        },
        {
          "output_type": "stream",
          "text": [
            "100%|██████████| 53/53 [00:00<00:00, 197.76it/s]\n",
            " 36%|███▌      | 19/53 [00:00<00:00, 188.03it/s]"
          ],
          "name": "stderr"
        },
        {
          "output_type": "stream",
          "text": [
            " Epoch: 12, Loss: 1.3854503339191653\n"
          ],
          "name": "stdout"
        },
        {
          "output_type": "stream",
          "text": [
            "100%|██████████| 53/53 [00:00<00:00, 202.24it/s]\n",
            " 43%|████▎     | 23/53 [00:00<00:00, 221.32it/s]"
          ],
          "name": "stderr"
        },
        {
          "output_type": "stream",
          "text": [
            " Epoch: 13, Loss: 1.3816889018382665\n"
          ],
          "name": "stdout"
        },
        {
          "output_type": "stream",
          "text": [
            "100%|██████████| 53/53 [00:00<00:00, 210.75it/s]\n",
            " 36%|███▌      | 19/53 [00:00<00:00, 181.19it/s]"
          ],
          "name": "stderr"
        },
        {
          "output_type": "stream",
          "text": [
            " Epoch: 14, Loss: 1.376309554531889\n"
          ],
          "name": "stdout"
        },
        {
          "output_type": "stream",
          "text": [
            "100%|██████████| 53/53 [00:00<00:00, 194.07it/s]\n",
            " 43%|████▎     | 23/53 [00:00<00:00, 221.97it/s]"
          ],
          "name": "stderr"
        },
        {
          "output_type": "stream",
          "text": [
            " Epoch: 15, Loss: 1.3684121145392365\n"
          ],
          "name": "stdout"
        },
        {
          "output_type": "stream",
          "text": [
            "100%|██████████| 53/53 [00:00<00:00, 209.82it/s]\n",
            " 32%|███▏      | 17/53 [00:00<00:00, 168.36it/s]"
          ],
          "name": "stderr"
        },
        {
          "output_type": "stream",
          "text": [
            " Epoch: 16, Loss: 1.357058511590058\n"
          ],
          "name": "stdout"
        },
        {
          "output_type": "stream",
          "text": [
            "100%|██████████| 53/53 [00:00<00:00, 192.96it/s]\n",
            " 40%|███▉      | 21/53 [00:00<00:00, 205.37it/s]"
          ],
          "name": "stderr"
        },
        {
          "output_type": "stream",
          "text": [
            " Epoch: 17, Loss: 1.3418205672839902\n"
          ],
          "name": "stdout"
        },
        {
          "output_type": "stream",
          "text": [
            "100%|██████████| 53/53 [00:00<00:00, 203.00it/s]\n",
            " 36%|███▌      | 19/53 [00:00<00:00, 185.16it/s]"
          ],
          "name": "stderr"
        },
        {
          "output_type": "stream",
          "text": [
            " Epoch: 18, Loss: 1.3232439205331623\n"
          ],
          "name": "stdout"
        },
        {
          "output_type": "stream",
          "text": [
            "100%|██████████| 53/53 [00:00<00:00, 194.59it/s]\n",
            " 42%|████▏     | 22/53 [00:00<00:00, 216.37it/s]"
          ],
          "name": "stderr"
        },
        {
          "output_type": "stream",
          "text": [
            " Epoch: 19, Loss: 1.3019492828621055\n"
          ],
          "name": "stdout"
        },
        {
          "output_type": "stream",
          "text": [
            "100%|██████████| 53/53 [00:00<00:00, 203.70it/s]\n",
            " 40%|███▉      | 21/53 [00:00<00:00, 208.98it/s]"
          ],
          "name": "stderr"
        },
        {
          "output_type": "stream",
          "text": [
            " Epoch: 20, Loss: 1.2858204504228987\n"
          ],
          "name": "stdout"
        },
        {
          "output_type": "stream",
          "text": [
            "100%|██████████| 53/53 [00:00<00:00, 204.48it/s]\n",
            " 42%|████▏     | 22/53 [00:00<00:00, 213.94it/s]"
          ],
          "name": "stderr"
        },
        {
          "output_type": "stream",
          "text": [
            " Epoch: 21, Loss: 1.2730132723754306\n"
          ],
          "name": "stdout"
        },
        {
          "output_type": "stream",
          "text": [
            "100%|██████████| 53/53 [00:00<00:00, 209.22it/s]\n",
            " 40%|███▉      | 21/53 [00:00<00:00, 209.85it/s]"
          ],
          "name": "stderr"
        },
        {
          "output_type": "stream",
          "text": [
            " Epoch: 22, Loss: 1.2631680358130977\n"
          ],
          "name": "stdout"
        },
        {
          "output_type": "stream",
          "text": [
            "100%|██████████| 53/53 [00:00<00:00, 207.58it/s]\n",
            " 34%|███▍      | 18/53 [00:00<00:00, 176.12it/s]"
          ],
          "name": "stderr"
        },
        {
          "output_type": "stream",
          "text": [
            " Epoch: 23, Loss: 1.2557326409052003\n"
          ],
          "name": "stdout"
        },
        {
          "output_type": "stream",
          "text": [
            "100%|██████████| 53/53 [00:00<00:00, 186.13it/s]\n",
            " 40%|███▉      | 21/53 [00:00<00:00, 207.44it/s]"
          ],
          "name": "stderr"
        },
        {
          "output_type": "stream",
          "text": [
            " Epoch: 24, Loss: 1.2481413955958385\n"
          ],
          "name": "stdout"
        },
        {
          "output_type": "stream",
          "text": [
            "100%|██████████| 53/53 [00:00<00:00, 210.21it/s]\n",
            " 42%|████▏     | 22/53 [00:00<00:00, 217.55it/s]"
          ],
          "name": "stderr"
        },
        {
          "output_type": "stream",
          "text": [
            " Epoch: 25, Loss: 1.2414855282261688\n"
          ],
          "name": "stdout"
        },
        {
          "output_type": "stream",
          "text": [
            "100%|██████████| 53/53 [00:00<00:00, 210.27it/s]\n",
            " 40%|███▉      | 21/53 [00:00<00:00, 209.70it/s]"
          ],
          "name": "stderr"
        },
        {
          "output_type": "stream",
          "text": [
            " Epoch: 26, Loss: 1.2337841965117544\n"
          ],
          "name": "stdout"
        },
        {
          "output_type": "stream",
          "text": [
            "100%|██████████| 53/53 [00:00<00:00, 199.33it/s]\n",
            " 40%|███▉      | 21/53 [00:00<00:00, 208.57it/s]"
          ],
          "name": "stderr"
        },
        {
          "output_type": "stream",
          "text": [
            " Epoch: 27, Loss: 1.226855605278375\n"
          ],
          "name": "stdout"
        },
        {
          "output_type": "stream",
          "text": [
            "100%|██████████| 53/53 [00:00<00:00, 189.48it/s]\n",
            " 40%|███▉      | 21/53 [00:00<00:00, 206.42it/s]"
          ],
          "name": "stderr"
        },
        {
          "output_type": "stream",
          "text": [
            " Epoch: 28, Loss: 1.2147901980382092\n"
          ],
          "name": "stdout"
        },
        {
          "output_type": "stream",
          "text": [
            "100%|██████████| 53/53 [00:00<00:00, 193.94it/s]\n",
            " 38%|███▊      | 20/53 [00:00<00:00, 196.83it/s]"
          ],
          "name": "stderr"
        },
        {
          "output_type": "stream",
          "text": [
            " Epoch: 29, Loss: 1.1998157073866647\n"
          ],
          "name": "stdout"
        },
        {
          "output_type": "stream",
          "text": [
            "100%|██████████| 53/53 [00:00<00:00, 193.99it/s]\n",
            " 42%|████▏     | 22/53 [00:00<00:00, 212.75it/s]"
          ],
          "name": "stderr"
        },
        {
          "output_type": "stream",
          "text": [
            " Epoch: 30, Loss: 1.1741654040678493\n"
          ],
          "name": "stdout"
        },
        {
          "output_type": "stream",
          "text": [
            "100%|██████████| 53/53 [00:00<00:00, 201.24it/s]\n",
            " 34%|███▍      | 18/53 [00:00<00:00, 176.03it/s]"
          ],
          "name": "stderr"
        },
        {
          "output_type": "stream",
          "text": [
            " Epoch: 31, Loss: 1.135606401371506\n"
          ],
          "name": "stdout"
        },
        {
          "output_type": "stream",
          "text": [
            "100%|██████████| 53/53 [00:00<00:00, 190.35it/s]\n",
            " 36%|███▌      | 19/53 [00:00<00:00, 184.79it/s]"
          ],
          "name": "stderr"
        },
        {
          "output_type": "stream",
          "text": [
            " Epoch: 32, Loss: 1.0864151682493821\n"
          ],
          "name": "stdout"
        },
        {
          "output_type": "stream",
          "text": [
            "100%|██████████| 53/53 [00:00<00:00, 192.57it/s]\n",
            " 36%|███▌      | 19/53 [00:00<00:00, 189.28it/s]"
          ],
          "name": "stderr"
        },
        {
          "output_type": "stream",
          "text": [
            " Epoch: 33, Loss: 1.0509063545263038\n"
          ],
          "name": "stdout"
        },
        {
          "output_type": "stream",
          "text": [
            "100%|██████████| 53/53 [00:00<00:00, 202.57it/s]\n",
            " 38%|███▊      | 20/53 [00:00<00:00, 197.35it/s]"
          ],
          "name": "stderr"
        },
        {
          "output_type": "stream",
          "text": [
            " Epoch: 34, Loss: 1.0221446741302058\n"
          ],
          "name": "stdout"
        },
        {
          "output_type": "stream",
          "text": [
            "100%|██████████| 53/53 [00:00<00:00, 202.80it/s]\n",
            " 40%|███▉      | 21/53 [00:00<00:00, 202.91it/s]"
          ],
          "name": "stderr"
        },
        {
          "output_type": "stream",
          "text": [
            " Epoch: 35, Loss: 0.9911711980711739\n"
          ],
          "name": "stdout"
        },
        {
          "output_type": "stream",
          "text": [
            "100%|██████████| 53/53 [00:00<00:00, 200.57it/s]\n",
            " 42%|████▏     | 22/53 [00:00<00:00, 218.43it/s]"
          ],
          "name": "stderr"
        },
        {
          "output_type": "stream",
          "text": [
            " Epoch: 36, Loss: 0.9614013231025552\n"
          ],
          "name": "stdout"
        },
        {
          "output_type": "stream",
          "text": [
            "100%|██████████| 53/53 [00:00<00:00, 201.21it/s]\n",
            " 42%|████▏     | 22/53 [00:00<00:00, 213.55it/s]"
          ],
          "name": "stderr"
        },
        {
          "output_type": "stream",
          "text": [
            " Epoch: 37, Loss: 0.9434146656180328\n"
          ],
          "name": "stdout"
        },
        {
          "output_type": "stream",
          "text": [
            "100%|██████████| 53/53 [00:00<00:00, 201.17it/s]\n",
            " 43%|████▎     | 23/53 [00:00<00:00, 223.46it/s]"
          ],
          "name": "stderr"
        },
        {
          "output_type": "stream",
          "text": [
            " Epoch: 38, Loss: 0.9316482667653065\n"
          ],
          "name": "stdout"
        },
        {
          "output_type": "stream",
          "text": [
            "100%|██████████| 53/53 [00:00<00:00, 202.61it/s]\n",
            " 42%|████▏     | 22/53 [00:00<00:00, 215.37it/s]"
          ],
          "name": "stderr"
        },
        {
          "output_type": "stream",
          "text": [
            " Epoch: 39, Loss: 0.924742119492225\n"
          ],
          "name": "stdout"
        },
        {
          "output_type": "stream",
          "text": [
            "100%|██████████| 53/53 [00:00<00:00, 208.92it/s]\n",
            " 43%|████▎     | 23/53 [00:00<00:00, 225.28it/s]"
          ],
          "name": "stderr"
        },
        {
          "output_type": "stream",
          "text": [
            " Epoch: 40, Loss: 0.919838861474451\n"
          ],
          "name": "stdout"
        },
        {
          "output_type": "stream",
          "text": [
            "100%|██████████| 53/53 [00:00<00:00, 213.52it/s]\n",
            " 43%|████▎     | 23/53 [00:00<00:00, 224.49it/s]"
          ],
          "name": "stderr"
        },
        {
          "output_type": "stream",
          "text": [
            " Epoch: 41, Loss: 0.9164324593993852\n"
          ],
          "name": "stdout"
        },
        {
          "output_type": "stream",
          "text": [
            "100%|██████████| 53/53 [00:00<00:00, 196.38it/s]\n",
            " 40%|███▉      | 21/53 [00:00<00:00, 202.06it/s]"
          ],
          "name": "stderr"
        },
        {
          "output_type": "stream",
          "text": [
            " Epoch: 42, Loss: 0.9141330145440012\n"
          ],
          "name": "stdout"
        },
        {
          "output_type": "stream",
          "text": [
            "100%|██████████| 53/53 [00:00<00:00, 199.25it/s]\n",
            " 40%|███▉      | 21/53 [00:00<00:00, 206.84it/s]"
          ],
          "name": "stderr"
        },
        {
          "output_type": "stream",
          "text": [
            " Epoch: 43, Loss: 0.912480633213835\n"
          ],
          "name": "stdout"
        },
        {
          "output_type": "stream",
          "text": [
            "100%|██████████| 53/53 [00:00<00:00, 205.30it/s]\n",
            " 40%|███▉      | 21/53 [00:00<00:00, 208.54it/s]"
          ],
          "name": "stderr"
        },
        {
          "output_type": "stream",
          "text": [
            " Epoch: 44, Loss: 0.9112597152871905\n"
          ],
          "name": "stdout"
        },
        {
          "output_type": "stream",
          "text": [
            "100%|██████████| 53/53 [00:00<00:00, 201.49it/s]\n",
            " 36%|███▌      | 19/53 [00:00<00:00, 189.79it/s]"
          ],
          "name": "stderr"
        },
        {
          "output_type": "stream",
          "text": [
            " Epoch: 45, Loss: 0.9103539619805678\n"
          ],
          "name": "stdout"
        },
        {
          "output_type": "stream",
          "text": [
            "100%|██████████| 53/53 [00:00<00:00, 195.58it/s]\n",
            " 40%|███▉      | 21/53 [00:00<00:00, 207.09it/s]"
          ],
          "name": "stderr"
        },
        {
          "output_type": "stream",
          "text": [
            " Epoch: 46, Loss: 0.9096115040329268\n"
          ],
          "name": "stdout"
        },
        {
          "output_type": "stream",
          "text": [
            "100%|██████████| 53/53 [00:00<00:00, 198.03it/s]\n",
            " 40%|███▉      | 21/53 [00:00<00:00, 209.96it/s]"
          ],
          "name": "stderr"
        },
        {
          "output_type": "stream",
          "text": [
            " Epoch: 47, Loss: 0.9090271614632517\n"
          ],
          "name": "stdout"
        },
        {
          "output_type": "stream",
          "text": [
            "100%|██████████| 53/53 [00:00<00:00, 203.71it/s]\n",
            " 42%|████▏     | 22/53 [00:00<00:00, 217.40it/s]"
          ],
          "name": "stderr"
        },
        {
          "output_type": "stream",
          "text": [
            " Epoch: 48, Loss: 0.908560926059507\n"
          ],
          "name": "stdout"
        },
        {
          "output_type": "stream",
          "text": [
            "100%|██████████| 53/53 [00:00<00:00, 206.88it/s]\n",
            " 38%|███▊      | 20/53 [00:00<00:00, 199.59it/s]"
          ],
          "name": "stderr"
        },
        {
          "output_type": "stream",
          "text": [
            " Epoch: 49, Loss: 0.9081399946842553\n"
          ],
          "name": "stdout"
        },
        {
          "output_type": "stream",
          "text": [
            "100%|██████████| 53/53 [00:00<00:00, 190.56it/s]\n",
            " 36%|███▌      | 19/53 [00:00<00:00, 189.24it/s]"
          ],
          "name": "stderr"
        },
        {
          "output_type": "stream",
          "text": [
            " Epoch: 50, Loss: 0.9078041168878663\n"
          ],
          "name": "stdout"
        },
        {
          "output_type": "stream",
          "text": [
            "100%|██████████| 53/53 [00:00<00:00, 199.23it/s]\n",
            " 42%|████▏     | 22/53 [00:00<00:00, 214.46it/s]"
          ],
          "name": "stderr"
        },
        {
          "output_type": "stream",
          "text": [
            " Epoch: 51, Loss: 0.9075227267337296\n"
          ],
          "name": "stdout"
        },
        {
          "output_type": "stream",
          "text": [
            "100%|██████████| 53/53 [00:00<00:00, 209.26it/s]\n",
            " 43%|████▎     | 23/53 [00:00<00:00, 220.95it/s]"
          ],
          "name": "stderr"
        },
        {
          "output_type": "stream",
          "text": [
            " Epoch: 52, Loss: 0.9072670036891721\n"
          ],
          "name": "stdout"
        },
        {
          "output_type": "stream",
          "text": [
            "100%|██████████| 53/53 [00:00<00:00, 207.13it/s]\n",
            " 38%|███▊      | 20/53 [00:00<00:00, 195.85it/s]"
          ],
          "name": "stderr"
        },
        {
          "output_type": "stream",
          "text": [
            " Epoch: 53, Loss: 0.9070533817669131\n"
          ],
          "name": "stdout"
        },
        {
          "output_type": "stream",
          "text": [
            "100%|██████████| 53/53 [00:00<00:00, 203.98it/s]\n",
            " 38%|███▊      | 20/53 [00:00<00:00, 192.05it/s]"
          ],
          "name": "stderr"
        },
        {
          "output_type": "stream",
          "text": [
            " Epoch: 54, Loss: 0.9068622173003431\n"
          ],
          "name": "stdout"
        },
        {
          "output_type": "stream",
          "text": [
            "100%|██████████| 53/53 [00:00<00:00, 203.54it/s]\n",
            " 40%|███▉      | 21/53 [00:00<00:00, 208.91it/s]"
          ],
          "name": "stderr"
        },
        {
          "output_type": "stream",
          "text": [
            " Epoch: 55, Loss: 0.9066931819016079\n"
          ],
          "name": "stdout"
        },
        {
          "output_type": "stream",
          "text": [
            "100%|██████████| 53/53 [00:00<00:00, 196.87it/s]\n",
            " 42%|████▏     | 22/53 [00:00<00:00, 214.40it/s]"
          ],
          "name": "stderr"
        },
        {
          "output_type": "stream",
          "text": [
            " Epoch: 56, Loss: 0.906543234609208\n"
          ],
          "name": "stdout"
        },
        {
          "output_type": "stream",
          "text": [
            "100%|██████████| 53/53 [00:00<00:00, 201.28it/s]\n",
            " 40%|███▉      | 21/53 [00:00<00:00, 201.76it/s]"
          ],
          "name": "stderr"
        },
        {
          "output_type": "stream",
          "text": [
            " Epoch: 57, Loss: 0.9064111034825163\n"
          ],
          "name": "stdout"
        },
        {
          "output_type": "stream",
          "text": [
            "100%|██████████| 53/53 [00:00<00:00, 196.50it/s]\n",
            " 40%|███▉      | 21/53 [00:00<00:00, 208.50it/s]"
          ],
          "name": "stderr"
        },
        {
          "output_type": "stream",
          "text": [
            " Epoch: 58, Loss: 0.906293344947527\n"
          ],
          "name": "stdout"
        },
        {
          "output_type": "stream",
          "text": [
            "100%|██████████| 53/53 [00:00<00:00, 200.98it/s]\n",
            " 36%|███▌      | 19/53 [00:00<00:00, 182.57it/s]"
          ],
          "name": "stderr"
        },
        {
          "output_type": "stream",
          "text": [
            " Epoch: 59, Loss: 0.9061831359593373\n"
          ],
          "name": "stdout"
        },
        {
          "output_type": "stream",
          "text": [
            "100%|██████████| 53/53 [00:00<00:00, 193.84it/s]\n",
            " 40%|███▉      | 21/53 [00:00<00:00, 209.38it/s]"
          ],
          "name": "stderr"
        },
        {
          "output_type": "stream",
          "text": [
            " Epoch: 60, Loss: 0.9060541560065072\n"
          ],
          "name": "stdout"
        },
        {
          "output_type": "stream",
          "text": [
            "100%|██████████| 53/53 [00:00<00:00, 196.28it/s]\n",
            " 42%|████▏     | 22/53 [00:00<00:00, 210.55it/s]"
          ],
          "name": "stderr"
        },
        {
          "output_type": "stream",
          "text": [
            " Epoch: 61, Loss: 0.9059387096818888\n"
          ],
          "name": "stdout"
        },
        {
          "output_type": "stream",
          "text": [
            "100%|██████████| 53/53 [00:00<00:00, 199.52it/s]\n",
            " 40%|███▉      | 21/53 [00:00<00:00, 200.44it/s]"
          ],
          "name": "stderr"
        },
        {
          "output_type": "stream",
          "text": [
            " Epoch: 62, Loss: 0.9058447558924837\n"
          ],
          "name": "stdout"
        },
        {
          "output_type": "stream",
          "text": [
            "100%|██████████| 53/53 [00:00<00:00, 201.97it/s]\n",
            " 43%|████▎     | 23/53 [00:00<00:00, 223.12it/s]"
          ],
          "name": "stderr"
        },
        {
          "output_type": "stream",
          "text": [
            " Epoch: 63, Loss: 0.9057637779217846\n"
          ],
          "name": "stdout"
        },
        {
          "output_type": "stream",
          "text": [
            "100%|██████████| 53/53 [00:00<00:00, 209.94it/s]\n",
            " 40%|███▉      | 21/53 [00:00<00:00, 196.05it/s]"
          ],
          "name": "stderr"
        },
        {
          "output_type": "stream",
          "text": [
            " Epoch: 64, Loss: 0.9056895611421117\n"
          ],
          "name": "stdout"
        },
        {
          "output_type": "stream",
          "text": [
            "100%|██████████| 53/53 [00:00<00:00, 196.37it/s]\n",
            " 34%|███▍      | 18/53 [00:00<00:00, 175.73it/s]"
          ],
          "name": "stderr"
        },
        {
          "output_type": "stream",
          "text": [
            " Epoch: 65, Loss: 0.905625786421434\n"
          ],
          "name": "stdout"
        },
        {
          "output_type": "stream",
          "text": [
            "100%|██████████| 53/53 [00:00<00:00, 183.18it/s]\n",
            " 42%|████▏     | 22/53 [00:00<00:00, 211.51it/s]"
          ],
          "name": "stderr"
        },
        {
          "output_type": "stream",
          "text": [
            " Epoch: 66, Loss: 0.9055666608630486\n"
          ],
          "name": "stdout"
        },
        {
          "output_type": "stream",
          "text": [
            "100%|██████████| 53/53 [00:00<00:00, 202.19it/s]\n",
            " 42%|████▏     | 22/53 [00:00<00:00, 218.35it/s]"
          ],
          "name": "stderr"
        },
        {
          "output_type": "stream",
          "text": [
            " Epoch: 67, Loss: 0.9055151264622526\n"
          ],
          "name": "stdout"
        },
        {
          "output_type": "stream",
          "text": [
            "100%|██████████| 53/53 [00:00<00:00, 205.37it/s]\n",
            " 36%|███▌      | 19/53 [00:00<00:00, 189.28it/s]"
          ],
          "name": "stderr"
        },
        {
          "output_type": "stream",
          "text": [
            " Epoch: 68, Loss: 0.905469518787456\n"
          ],
          "name": "stdout"
        },
        {
          "output_type": "stream",
          "text": [
            "100%|██████████| 53/53 [00:00<00:00, 197.19it/s]\n",
            " 38%|███▊      | 20/53 [00:00<00:00, 197.62it/s]"
          ],
          "name": "stderr"
        },
        {
          "output_type": "stream",
          "text": [
            " Epoch: 69, Loss: 0.9054266518017031\n"
          ],
          "name": "stdout"
        },
        {
          "output_type": "stream",
          "text": [
            "100%|██████████| 53/53 [00:00<00:00, 192.68it/s]\n",
            " 42%|████▏     | 22/53 [00:00<00:00, 214.69it/s]"
          ],
          "name": "stderr"
        },
        {
          "output_type": "stream",
          "text": [
            " Epoch: 70, Loss: 0.9053901816314122\n"
          ],
          "name": "stdout"
        },
        {
          "output_type": "stream",
          "text": [
            "100%|██████████| 53/53 [00:00<00:00, 202.20it/s]\n",
            " 40%|███▉      | 21/53 [00:00<00:00, 204.68it/s]"
          ],
          "name": "stderr"
        },
        {
          "output_type": "stream",
          "text": [
            " Epoch: 71, Loss: 0.9053540499705188\n"
          ],
          "name": "stdout"
        },
        {
          "output_type": "stream",
          "text": [
            "100%|██████████| 53/53 [00:00<00:00, 196.26it/s]\n",
            " 38%|███▊      | 20/53 [00:00<00:00, 196.56it/s]"
          ],
          "name": "stderr"
        },
        {
          "output_type": "stream",
          "text": [
            " Epoch: 72, Loss: 0.9053207073571548\n"
          ],
          "name": "stdout"
        },
        {
          "output_type": "stream",
          "text": [
            "100%|██████████| 53/53 [00:00<00:00, 189.27it/s]\n",
            " 42%|████▏     | 22/53 [00:00<00:00, 214.74it/s]"
          ],
          "name": "stderr"
        },
        {
          "output_type": "stream",
          "text": [
            " Epoch: 73, Loss: 0.9052917529951852\n"
          ],
          "name": "stdout"
        },
        {
          "output_type": "stream",
          "text": [
            "100%|██████████| 53/53 [00:00<00:00, 211.19it/s]\n",
            " 40%|███▉      | 21/53 [00:00<00:00, 209.04it/s]"
          ],
          "name": "stderr"
        },
        {
          "output_type": "stream",
          "text": [
            " Epoch: 74, Loss: 0.9052641819108207\n"
          ],
          "name": "stdout"
        },
        {
          "output_type": "stream",
          "text": [
            "100%|██████████| 53/53 [00:00<00:00, 211.00it/s]\n",
            " 38%|███▊      | 20/53 [00:00<00:00, 190.59it/s]"
          ],
          "name": "stderr"
        },
        {
          "output_type": "stream",
          "text": [
            " Epoch: 75, Loss: 0.9052385406674079\n"
          ],
          "name": "stdout"
        },
        {
          "output_type": "stream",
          "text": [
            "100%|██████████| 53/53 [00:00<00:00, 191.29it/s]\n",
            " 42%|████▏     | 22/53 [00:00<00:00, 215.16it/s]"
          ],
          "name": "stderr"
        },
        {
          "output_type": "stream",
          "text": [
            " Epoch: 76, Loss: 0.9052154984114305\n"
          ],
          "name": "stdout"
        },
        {
          "output_type": "stream",
          "text": [
            "100%|██████████| 53/53 [00:00<00:00, 200.46it/s]\n",
            " 42%|████▏     | 22/53 [00:00<00:00, 215.00it/s]"
          ],
          "name": "stderr"
        },
        {
          "output_type": "stream",
          "text": [
            " Epoch: 77, Loss: 0.9051941869393835\n"
          ],
          "name": "stdout"
        },
        {
          "output_type": "stream",
          "text": [
            "100%|██████████| 53/53 [00:00<00:00, 207.74it/s]\n",
            " 40%|███▉      | 21/53 [00:00<00:00, 208.60it/s]"
          ],
          "name": "stderr"
        },
        {
          "output_type": "stream",
          "text": [
            " Epoch: 78, Loss: 0.9051745995035712\n"
          ],
          "name": "stdout"
        },
        {
          "output_type": "stream",
          "text": [
            "100%|██████████| 53/53 [00:00<00:00, 194.61it/s]\n",
            " 38%|███▊      | 20/53 [00:00<00:00, 196.17it/s]"
          ],
          "name": "stderr"
        },
        {
          "output_type": "stream",
          "text": [
            " Epoch: 79, Loss: 0.9051555946188153\n"
          ],
          "name": "stdout"
        },
        {
          "output_type": "stream",
          "text": [
            "100%|██████████| 53/53 [00:00<00:00, 203.60it/s]\n",
            " 42%|████▏     | 22/53 [00:00<00:00, 217.05it/s]"
          ],
          "name": "stderr"
        },
        {
          "output_type": "stream",
          "text": [
            " Epoch: 80, Loss: 0.9051385072042357\n"
          ],
          "name": "stdout"
        },
        {
          "output_type": "stream",
          "text": [
            "100%|██████████| 53/53 [00:00<00:00, 201.64it/s]\n",
            " 40%|███▉      | 21/53 [00:00<00:00, 207.96it/s]"
          ],
          "name": "stderr"
        },
        {
          "output_type": "stream",
          "text": [
            " Epoch: 81, Loss: 0.9051224386916971\n"
          ],
          "name": "stdout"
        },
        {
          "output_type": "stream",
          "text": [
            "100%|██████████| 53/53 [00:00<00:00, 202.69it/s]\n",
            " 40%|███▉      | 21/53 [00:00<00:00, 209.91it/s]"
          ],
          "name": "stderr"
        },
        {
          "output_type": "stream",
          "text": [
            " Epoch: 82, Loss: 0.9051074790504744\n"
          ],
          "name": "stdout"
        },
        {
          "output_type": "stream",
          "text": [
            "100%|██████████| 53/53 [00:00<00:00, 208.30it/s]\n",
            " 36%|███▌      | 19/53 [00:00<00:00, 183.61it/s]"
          ],
          "name": "stderr"
        },
        {
          "output_type": "stream",
          "text": [
            " Epoch: 83, Loss: 0.9050936980067559\n"
          ],
          "name": "stdout"
        },
        {
          "output_type": "stream",
          "text": [
            "100%|██████████| 53/53 [00:00<00:00, 186.93it/s]\n",
            " 40%|███▉      | 21/53 [00:00<00:00, 198.78it/s]"
          ],
          "name": "stderr"
        },
        {
          "output_type": "stream",
          "text": [
            " Epoch: 84, Loss: 0.9050802880862974\n"
          ],
          "name": "stdout"
        },
        {
          "output_type": "stream",
          "text": [
            "100%|██████████| 53/53 [00:00<00:00, 198.57it/s]\n",
            " 42%|████▏     | 22/53 [00:00<00:00, 217.67it/s]"
          ],
          "name": "stderr"
        },
        {
          "output_type": "stream",
          "text": [
            " Epoch: 85, Loss: 0.9050678622047856\n"
          ],
          "name": "stdout"
        },
        {
          "output_type": "stream",
          "text": [
            "100%|██████████| 53/53 [00:00<00:00, 204.59it/s]\n",
            " 38%|███▊      | 20/53 [00:00<00:00, 195.50it/s]"
          ],
          "name": "stderr"
        },
        {
          "output_type": "stream",
          "text": [
            " Epoch: 86, Loss: 0.9050564765930176\n"
          ],
          "name": "stdout"
        },
        {
          "output_type": "stream",
          "text": [
            "100%|██████████| 53/53 [00:00<00:00, 191.09it/s]\n",
            " 42%|████▏     | 22/53 [00:00<00:00, 216.75it/s]"
          ],
          "name": "stderr"
        },
        {
          "output_type": "stream",
          "text": [
            " Epoch: 87, Loss: 0.9050458073616028\n"
          ],
          "name": "stdout"
        },
        {
          "output_type": "stream",
          "text": [
            "100%|██████████| 53/53 [00:00<00:00, 206.25it/s]\n",
            " 38%|███▊      | 20/53 [00:00<00:00, 193.53it/s]"
          ],
          "name": "stderr"
        },
        {
          "output_type": "stream",
          "text": [
            " Epoch: 88, Loss: 0.9050353000748832\n"
          ],
          "name": "stdout"
        },
        {
          "output_type": "stream",
          "text": [
            "100%|██████████| 53/53 [00:00<00:00, 193.99it/s]\n",
            " 40%|███▉      | 21/53 [00:00<00:00, 208.98it/s]"
          ],
          "name": "stderr"
        },
        {
          "output_type": "stream",
          "text": [
            " Epoch: 89, Loss: 0.9050256283778064\n"
          ],
          "name": "stdout"
        },
        {
          "output_type": "stream",
          "text": [
            "100%|██████████| 53/53 [00:00<00:00, 208.26it/s]\n",
            " 42%|████▏     | 22/53 [00:00<00:00, 219.09it/s]"
          ],
          "name": "stderr"
        },
        {
          "output_type": "stream",
          "text": [
            " Epoch: 90, Loss: 0.9050167742765175\n"
          ],
          "name": "stdout"
        },
        {
          "output_type": "stream",
          "text": [
            "100%|██████████| 53/53 [00:00<00:00, 200.77it/s]\n",
            " 42%|████▏     | 22/53 [00:00<00:00, 217.57it/s]"
          ],
          "name": "stderr"
        },
        {
          "output_type": "stream",
          "text": [
            " Epoch: 91, Loss: 0.9050084498693358\n"
          ],
          "name": "stdout"
        },
        {
          "output_type": "stream",
          "text": [
            "100%|██████████| 53/53 [00:00<00:00, 205.42it/s]\n",
            " 36%|███▌      | 19/53 [00:00<00:00, 187.56it/s]"
          ],
          "name": "stderr"
        },
        {
          "output_type": "stream",
          "text": [
            " Epoch: 92, Loss: 0.9050001783191033\n"
          ],
          "name": "stdout"
        },
        {
          "output_type": "stream",
          "text": [
            "100%|██████████| 53/53 [00:00<00:00, 201.90it/s]\n",
            " 42%|████▏     | 22/53 [00:00<00:00, 217.32it/s]"
          ],
          "name": "stderr"
        },
        {
          "output_type": "stream",
          "text": [
            " Epoch: 93, Loss: 0.9049928064616222\n"
          ],
          "name": "stdout"
        },
        {
          "output_type": "stream",
          "text": [
            "100%|██████████| 53/53 [00:00<00:00, 206.21it/s]\n",
            " 40%|███▉      | 21/53 [00:00<00:00, 196.42it/s]"
          ],
          "name": "stderr"
        },
        {
          "output_type": "stream",
          "text": [
            " Epoch: 94, Loss: 0.9049853311394745\n"
          ],
          "name": "stdout"
        },
        {
          "output_type": "stream",
          "text": [
            "100%|██████████| 53/53 [00:00<00:00, 195.84it/s]\n",
            " 38%|███▊      | 20/53 [00:00<00:00, 196.01it/s]"
          ],
          "name": "stderr"
        },
        {
          "output_type": "stream",
          "text": [
            " Epoch: 95, Loss: 0.9049788443547375\n"
          ],
          "name": "stdout"
        },
        {
          "output_type": "stream",
          "text": [
            "100%|██████████| 53/53 [00:00<00:00, 193.67it/s]\n",
            " 40%|███▉      | 21/53 [00:00<00:00, 204.24it/s]"
          ],
          "name": "stderr"
        },
        {
          "output_type": "stream",
          "text": [
            " Epoch: 96, Loss: 0.9049722496068703\n"
          ],
          "name": "stdout"
        },
        {
          "output_type": "stream",
          "text": [
            "100%|██████████| 53/53 [00:00<00:00, 204.41it/s]\n",
            " 40%|███▉      | 21/53 [00:00<00:00, 207.22it/s]"
          ],
          "name": "stderr"
        },
        {
          "output_type": "stream",
          "text": [
            " Epoch: 97, Loss: 0.9049661991731176\n"
          ],
          "name": "stdout"
        },
        {
          "output_type": "stream",
          "text": [
            "100%|██████████| 53/53 [00:00<00:00, 200.84it/s]\n",
            " 32%|███▏      | 17/53 [00:00<00:00, 166.68it/s]"
          ],
          "name": "stderr"
        },
        {
          "output_type": "stream",
          "text": [
            " Epoch: 98, Loss: 0.9049603939056396\n"
          ],
          "name": "stdout"
        },
        {
          "output_type": "stream",
          "text": [
            "100%|██████████| 53/53 [00:00<00:00, 191.21it/s]\n",
            " 40%|███▉      | 21/53 [00:00<00:00, 203.96it/s]"
          ],
          "name": "stderr"
        },
        {
          "output_type": "stream",
          "text": [
            " Epoch: 99, Loss: 0.9049551273291966\n"
          ],
          "name": "stdout"
        },
        {
          "output_type": "stream",
          "text": [
            "100%|██████████| 53/53 [00:00<00:00, 194.68it/s]\n",
            " 42%|████▏     | 22/53 [00:00<00:00, 214.47it/s]"
          ],
          "name": "stderr"
        },
        {
          "output_type": "stream",
          "text": [
            " Epoch: 100, Loss: 0.90495000020513\n"
          ],
          "name": "stdout"
        },
        {
          "output_type": "stream",
          "text": [
            "100%|██████████| 53/53 [00:00<00:00, 202.13it/s]\n",
            " 38%|███▊      | 20/53 [00:00<00:00, 192.10it/s]"
          ],
          "name": "stderr"
        },
        {
          "output_type": "stream",
          "text": [
            " Epoch: 101, Loss: 0.904945008034976\n"
          ],
          "name": "stdout"
        },
        {
          "output_type": "stream",
          "text": [
            "100%|██████████| 53/53 [00:00<00:00, 190.16it/s]\n",
            " 40%|███▉      | 21/53 [00:00<00:00, 208.30it/s]"
          ],
          "name": "stderr"
        },
        {
          "output_type": "stream",
          "text": [
            " Epoch: 102, Loss: 0.9049402261680027\n"
          ],
          "name": "stdout"
        },
        {
          "output_type": "stream",
          "text": [
            "100%|██████████| 53/53 [00:00<00:00, 208.91it/s]\n",
            " 36%|███▌      | 19/53 [00:00<00:00, 189.17it/s]"
          ],
          "name": "stderr"
        },
        {
          "output_type": "stream",
          "text": [
            " Epoch: 103, Loss: 0.9049358817766298\n"
          ],
          "name": "stdout"
        },
        {
          "output_type": "stream",
          "text": [
            "100%|██████████| 53/53 [00:00<00:00, 197.25it/s]\n",
            " 38%|███▊      | 20/53 [00:00<00:00, 196.80it/s]"
          ],
          "name": "stderr"
        },
        {
          "output_type": "stream",
          "text": [
            " Epoch: 104, Loss: 0.9049315744975828\n"
          ],
          "name": "stdout"
        },
        {
          "output_type": "stream",
          "text": [
            "100%|██████████| 53/53 [00:00<00:00, 197.75it/s]\n",
            " 42%|████▏     | 22/53 [00:00<00:00, 214.46it/s]"
          ],
          "name": "stderr"
        },
        {
          "output_type": "stream",
          "text": [
            " Epoch: 105, Loss: 0.9049275303786656\n"
          ],
          "name": "stdout"
        },
        {
          "output_type": "stream",
          "text": [
            "100%|██████████| 53/53 [00:00<00:00, 206.12it/s]\n",
            " 42%|████▏     | 22/53 [00:00<00:00, 211.32it/s]"
          ],
          "name": "stderr"
        },
        {
          "output_type": "stream",
          "text": [
            " Epoch: 106, Loss: 0.9049235919736466\n"
          ],
          "name": "stdout"
        },
        {
          "output_type": "stream",
          "text": [
            "100%|██████████| 53/53 [00:00<00:00, 207.11it/s]\n",
            " 36%|███▌      | 19/53 [00:00<00:00, 182.92it/s]"
          ],
          "name": "stderr"
        },
        {
          "output_type": "stream",
          "text": [
            " Epoch: 107, Loss: 0.9049200842965324\n"
          ],
          "name": "stdout"
        },
        {
          "output_type": "stream",
          "text": [
            "100%|██████████| 53/53 [00:00<00:00, 189.33it/s]\n",
            " 42%|████▏     | 22/53 [00:00<00:00, 217.89it/s]"
          ],
          "name": "stderr"
        },
        {
          "output_type": "stream",
          "text": [
            " Epoch: 108, Loss: 0.9049165125163097\n"
          ],
          "name": "stdout"
        },
        {
          "output_type": "stream",
          "text": [
            "100%|██████████| 53/53 [00:00<00:00, 208.83it/s]\n",
            " 36%|███▌      | 19/53 [00:00<00:00, 189.63it/s]"
          ],
          "name": "stderr"
        },
        {
          "output_type": "stream",
          "text": [
            " Epoch: 109, Loss: 0.9049132218900716\n"
          ],
          "name": "stdout"
        },
        {
          "output_type": "stream",
          "text": [
            "100%|██████████| 53/53 [00:00<00:00, 197.26it/s]\n",
            " 40%|███▉      | 21/53 [00:00<00:00, 209.88it/s]"
          ],
          "name": "stderr"
        },
        {
          "output_type": "stream",
          "text": [
            " Epoch: 110, Loss: 0.9049099458838409\n"
          ],
          "name": "stdout"
        },
        {
          "output_type": "stream",
          "text": [
            "100%|██████████| 53/53 [00:00<00:00, 192.97it/s]\n",
            " 42%|████▏     | 22/53 [00:00<00:00, 217.75it/s]"
          ],
          "name": "stderr"
        },
        {
          "output_type": "stream",
          "text": [
            " Epoch: 111, Loss: 0.904907060119341\n"
          ],
          "name": "stdout"
        },
        {
          "output_type": "stream",
          "text": [
            "100%|██████████| 53/53 [00:00<00:00, 207.88it/s]\n",
            " 34%|███▍      | 18/53 [00:00<00:00, 175.96it/s]"
          ],
          "name": "stderr"
        },
        {
          "output_type": "stream",
          "text": [
            " Epoch: 112, Loss: 0.9049041001301892\n"
          ],
          "name": "stdout"
        },
        {
          "output_type": "stream",
          "text": [
            "100%|██████████| 53/53 [00:00<00:00, 193.01it/s]\n",
            " 38%|███▊      | 20/53 [00:00<00:00, 192.60it/s]"
          ],
          "name": "stderr"
        },
        {
          "output_type": "stream",
          "text": [
            " Epoch: 113, Loss: 0.9049013234534353\n"
          ],
          "name": "stdout"
        },
        {
          "output_type": "stream",
          "text": [
            "100%|██████████| 53/53 [00:00<00:00, 195.47it/s]\n",
            " 40%|███▉      | 21/53 [00:00<00:00, 208.49it/s]"
          ],
          "name": "stderr"
        },
        {
          "output_type": "stream",
          "text": [
            " Epoch: 114, Loss: 0.9048987357121594\n"
          ],
          "name": "stdout"
        },
        {
          "output_type": "stream",
          "text": [
            "100%|██████████| 53/53 [00:00<00:00, 198.21it/s]\n",
            " 40%|███▉      | 21/53 [00:00<00:00, 207.19it/s]"
          ],
          "name": "stderr"
        },
        {
          "output_type": "stream",
          "text": [
            " Epoch: 115, Loss: 0.904896190706289\n"
          ],
          "name": "stdout"
        },
        {
          "output_type": "stream",
          "text": [
            "100%|██████████| 53/53 [00:00<00:00, 207.47it/s]\n",
            " 42%|████▏     | 22/53 [00:00<00:00, 215.74it/s]"
          ],
          "name": "stderr"
        },
        {
          "output_type": "stream",
          "text": [
            " Epoch: 116, Loss: 0.9048937469158532\n"
          ],
          "name": "stdout"
        },
        {
          "output_type": "stream",
          "text": [
            "100%|██████████| 53/53 [00:00<00:00, 204.16it/s]\n",
            " 40%|███▉      | 21/53 [00:00<00:00, 209.38it/s]"
          ],
          "name": "stderr"
        },
        {
          "output_type": "stream",
          "text": [
            " Epoch: 117, Loss: 0.9048914526993374\n"
          ],
          "name": "stdout"
        },
        {
          "output_type": "stream",
          "text": [
            "100%|██████████| 53/53 [00:00<00:00, 200.15it/s]\n",
            " 42%|████▏     | 22/53 [00:00<00:00, 212.59it/s]"
          ],
          "name": "stderr"
        },
        {
          "output_type": "stream",
          "text": [
            " Epoch: 118, Loss: 0.9048892203366982\n"
          ],
          "name": "stdout"
        },
        {
          "output_type": "stream",
          "text": [
            "100%|██████████| 53/53 [00:00<00:00, 197.66it/s]\n",
            " 43%|████▎     | 23/53 [00:00<00:00, 226.27it/s]"
          ],
          "name": "stderr"
        },
        {
          "output_type": "stream",
          "text": [
            " Epoch: 119, Loss: 0.9048871982772395\n"
          ],
          "name": "stdout"
        },
        {
          "output_type": "stream",
          "text": [
            "100%|██████████| 53/53 [00:00<00:00, 211.51it/s]\n",
            " 42%|████▏     | 22/53 [00:00<00:00, 217.62it/s]"
          ],
          "name": "stderr"
        },
        {
          "output_type": "stream",
          "text": [
            " Epoch: 120, Loss: 0.9048851705947012\n"
          ],
          "name": "stdout"
        },
        {
          "output_type": "stream",
          "text": [
            "100%|██████████| 53/53 [00:00<00:00, 201.16it/s]\n",
            " 40%|███▉      | 21/53 [00:00<00:00, 205.59it/s]"
          ],
          "name": "stderr"
        },
        {
          "output_type": "stream",
          "text": [
            " Epoch: 121, Loss: 0.9048832609968366\n"
          ],
          "name": "stdout"
        },
        {
          "output_type": "stream",
          "text": [
            "100%|██████████| 53/53 [00:00<00:00, 201.18it/s]\n",
            " 36%|███▌      | 19/53 [00:00<00:00, 182.24it/s]"
          ],
          "name": "stderr"
        },
        {
          "output_type": "stream",
          "text": [
            " Epoch: 122, Loss: 0.9048813289066531\n"
          ],
          "name": "stdout"
        },
        {
          "output_type": "stream",
          "text": [
            "100%|██████████| 53/53 [00:00<00:00, 195.56it/s]\n",
            " 43%|████▎     | 23/53 [00:00<00:00, 221.53it/s]"
          ],
          "name": "stderr"
        },
        {
          "output_type": "stream",
          "text": [
            " Epoch: 123, Loss: 0.9048795452657735\n"
          ],
          "name": "stdout"
        },
        {
          "output_type": "stream",
          "text": [
            "100%|██████████| 53/53 [00:00<00:00, 211.70it/s]\n",
            " 40%|███▉      | 21/53 [00:00<00:00, 206.14it/s]"
          ],
          "name": "stderr"
        },
        {
          "output_type": "stream",
          "text": [
            " Epoch: 124, Loss: 0.9048778212295389\n"
          ],
          "name": "stdout"
        },
        {
          "output_type": "stream",
          "text": [
            "100%|██████████| 53/53 [00:00<00:00, 203.73it/s]\n",
            " 42%|████▏     | 22/53 [00:00<00:00, 208.01it/s]"
          ],
          "name": "stderr"
        },
        {
          "output_type": "stream",
          "text": [
            " Epoch: 125, Loss: 0.9048762602626153\n"
          ],
          "name": "stdout"
        },
        {
          "output_type": "stream",
          "text": [
            "100%|██████████| 53/53 [00:00<00:00, 206.26it/s]\n",
            " 36%|███▌      | 19/53 [00:00<00:00, 188.60it/s]"
          ],
          "name": "stderr"
        },
        {
          "output_type": "stream",
          "text": [
            " Epoch: 126, Loss: 0.904874676803373\n"
          ],
          "name": "stdout"
        },
        {
          "output_type": "stream",
          "text": [
            "100%|██████████| 53/53 [00:00<00:00, 198.74it/s]\n",
            " 36%|███▌      | 19/53 [00:00<00:00, 185.75it/s]"
          ],
          "name": "stderr"
        },
        {
          "output_type": "stream",
          "text": [
            " Epoch: 127, Loss: 0.9048731113379856\n"
          ],
          "name": "stdout"
        },
        {
          "output_type": "stream",
          "text": [
            "100%|██████████| 53/53 [00:00<00:00, 191.30it/s]\n",
            " 38%|███▊      | 20/53 [00:00<00:00, 192.71it/s]"
          ],
          "name": "stderr"
        },
        {
          "output_type": "stream",
          "text": [
            " Epoch: 128, Loss: 0.9048717258111486\n"
          ],
          "name": "stdout"
        },
        {
          "output_type": "stream",
          "text": [
            "100%|██████████| 53/53 [00:00<00:00, 198.79it/s]\n",
            " 40%|███▉      | 21/53 [00:00<00:00, 204.23it/s]"
          ],
          "name": "stderr"
        },
        {
          "output_type": "stream",
          "text": [
            " Epoch: 129, Loss: 0.9048703009227537\n"
          ],
          "name": "stdout"
        },
        {
          "output_type": "stream",
          "text": [
            "100%|██████████| 53/53 [00:00<00:00, 195.11it/s]\n",
            " 43%|████▎     | 23/53 [00:00<00:00, 222.05it/s]"
          ],
          "name": "stderr"
        },
        {
          "output_type": "stream",
          "text": [
            " Epoch: 130, Loss: 0.9048689794990251\n"
          ],
          "name": "stdout"
        },
        {
          "output_type": "stream",
          "text": [
            "100%|██████████| 53/53 [00:00<00:00, 205.48it/s]\n",
            " 42%|████▏     | 22/53 [00:00<00:00, 215.96it/s]"
          ],
          "name": "stderr"
        },
        {
          "output_type": "stream",
          "text": [
            " Epoch: 131, Loss: 0.9048676816922314\n"
          ],
          "name": "stdout"
        },
        {
          "output_type": "stream",
          "text": [
            "100%|██████████| 53/53 [00:00<00:00, 206.21it/s]\n",
            " 43%|████▎     | 23/53 [00:00<00:00, 221.36it/s]"
          ],
          "name": "stderr"
        },
        {
          "output_type": "stream",
          "text": [
            " Epoch: 132, Loss: 0.9048664446146983\n"
          ],
          "name": "stdout"
        },
        {
          "output_type": "stream",
          "text": [
            "100%|██████████| 53/53 [00:00<00:00, 196.85it/s]\n",
            " 42%|████▏     | 22/53 [00:00<00:00, 218.20it/s]"
          ],
          "name": "stderr"
        },
        {
          "output_type": "stream",
          "text": [
            " Epoch: 133, Loss: 0.9048653132510636\n"
          ],
          "name": "stdout"
        },
        {
          "output_type": "stream",
          "text": [
            "100%|██████████| 53/53 [00:00<00:00, 199.71it/s]\n",
            " 40%|███▉      | 21/53 [00:00<00:00, 207.12it/s]"
          ],
          "name": "stderr"
        },
        {
          "output_type": "stream",
          "text": [
            " Epoch: 134, Loss: 0.9048641447751027\n"
          ],
          "name": "stdout"
        },
        {
          "output_type": "stream",
          "text": [
            "100%|██████████| 53/53 [00:00<00:00, 204.22it/s]\n",
            " 40%|███▉      | 21/53 [00:00<00:00, 209.19it/s]"
          ],
          "name": "stderr"
        },
        {
          "output_type": "stream",
          "text": [
            " Epoch: 135, Loss: 0.9048630876361199\n"
          ],
          "name": "stdout"
        },
        {
          "output_type": "stream",
          "text": [
            "100%|██████████| 53/53 [00:00<00:00, 202.37it/s]\n",
            " 40%|███▉      | 21/53 [00:00<00:00, 206.80it/s]"
          ],
          "name": "stderr"
        },
        {
          "output_type": "stream",
          "text": [
            " Epoch: 136, Loss: 0.9048620057555864\n"
          ],
          "name": "stdout"
        },
        {
          "output_type": "stream",
          "text": [
            "100%|██████████| 53/53 [00:00<00:00, 191.03it/s]\n",
            " 38%|███▊      | 20/53 [00:00<00:00, 198.26it/s]"
          ],
          "name": "stderr"
        },
        {
          "output_type": "stream",
          "text": [
            " Epoch: 137, Loss: 0.9048609891027775\n"
          ],
          "name": "stdout"
        },
        {
          "output_type": "stream",
          "text": [
            "100%|██████████| 53/53 [00:00<00:00, 199.87it/s]\n",
            " 42%|████▏     | 22/53 [00:00<00:00, 214.79it/s]"
          ],
          "name": "stderr"
        },
        {
          "output_type": "stream",
          "text": [
            " Epoch: 138, Loss: 0.9048600129361423\n"
          ],
          "name": "stdout"
        },
        {
          "output_type": "stream",
          "text": [
            "100%|██████████| 53/53 [00:00<00:00, 211.27it/s]\n",
            " 40%|███▉      | 21/53 [00:00<00:00, 208.61it/s]"
          ],
          "name": "stderr"
        },
        {
          "output_type": "stream",
          "text": [
            " Epoch: 139, Loss: 0.9048590615110578\n"
          ],
          "name": "stdout"
        },
        {
          "output_type": "stream",
          "text": [
            "100%|██████████| 53/53 [00:00<00:00, 202.01it/s]\n",
            " 38%|███▊      | 20/53 [00:00<00:00, 199.77it/s]"
          ],
          "name": "stderr"
        },
        {
          "output_type": "stream",
          "text": [
            " Epoch: 140, Loss: 0.904858188809089\n"
          ],
          "name": "stdout"
        },
        {
          "output_type": "stream",
          "text": [
            "100%|██████████| 53/53 [00:00<00:00, 204.38it/s]\n",
            " 38%|███▊      | 20/53 [00:00<00:00, 193.10it/s]"
          ],
          "name": "stderr"
        },
        {
          "output_type": "stream",
          "text": [
            " Epoch: 141, Loss: 0.9048573341009751\n"
          ],
          "name": "stdout"
        },
        {
          "output_type": "stream",
          "text": [
            "100%|██████████| 53/53 [00:00<00:00, 198.94it/s]\n",
            " 36%|███▌      | 19/53 [00:00<00:00, 187.40it/s]"
          ],
          "name": "stderr"
        },
        {
          "output_type": "stream",
          "text": [
            " Epoch: 142, Loss: 0.9048564591497745\n"
          ],
          "name": "stdout"
        },
        {
          "output_type": "stream",
          "text": [
            "100%|██████████| 53/53 [00:00<00:00, 195.24it/s]\n",
            " 38%|███▊      | 20/53 [00:00<00:00, 193.64it/s]"
          ],
          "name": "stderr"
        },
        {
          "output_type": "stream",
          "text": [
            " Epoch: 143, Loss: 0.9048556786663128\n"
          ],
          "name": "stdout"
        },
        {
          "output_type": "stream",
          "text": [
            "100%|██████████| 53/53 [00:00<00:00, 193.84it/s]\n",
            " 42%|████▏     | 22/53 [00:00<00:00, 216.38it/s]"
          ],
          "name": "stderr"
        },
        {
          "output_type": "stream",
          "text": [
            " Epoch: 144, Loss: 0.9048548711920684\n"
          ],
          "name": "stdout"
        },
        {
          "output_type": "stream",
          "text": [
            "100%|██████████| 53/53 [00:00<00:00, 198.94it/s]\n",
            " 40%|███▉      | 21/53 [00:00<00:00, 208.17it/s]"
          ],
          "name": "stderr"
        },
        {
          "output_type": "stream",
          "text": [
            " Epoch: 145, Loss: 0.9048541806778818\n"
          ],
          "name": "stdout"
        },
        {
          "output_type": "stream",
          "text": [
            "100%|██████████| 53/53 [00:00<00:00, 206.30it/s]\n",
            " 40%|███▉      | 21/53 [00:00<00:00, 206.07it/s]"
          ],
          "name": "stderr"
        },
        {
          "output_type": "stream",
          "text": [
            " Epoch: 146, Loss: 0.9048534271852026\n"
          ],
          "name": "stdout"
        },
        {
          "output_type": "stream",
          "text": [
            "100%|██████████| 53/53 [00:00<00:00, 208.76it/s]\n",
            " 38%|███▊      | 20/53 [00:00<00:00, 196.50it/s]"
          ],
          "name": "stderr"
        },
        {
          "output_type": "stream",
          "text": [
            " Epoch: 147, Loss: 0.9048527636617985\n"
          ],
          "name": "stdout"
        },
        {
          "output_type": "stream",
          "text": [
            "100%|██████████| 53/53 [00:00<00:00, 200.43it/s]\n",
            " 42%|████▏     | 22/53 [00:00<00:00, 215.94it/s]"
          ],
          "name": "stderr"
        },
        {
          "output_type": "stream",
          "text": [
            " Epoch: 148, Loss: 0.904852068649148\n"
          ],
          "name": "stdout"
        },
        {
          "output_type": "stream",
          "text": [
            "100%|██████████| 53/53 [00:00<00:00, 196.84it/s]\n",
            " 34%|███▍      | 18/53 [00:00<00:00, 175.41it/s]"
          ],
          "name": "stderr"
        },
        {
          "output_type": "stream",
          "text": [
            " Epoch: 149, Loss: 0.904851423119599\n"
          ],
          "name": "stdout"
        },
        {
          "output_type": "stream",
          "text": [
            "100%|██████████| 53/53 [00:00<00:00, 191.88it/s]\n",
            " 43%|████▎     | 23/53 [00:00<00:00, 223.65it/s]"
          ],
          "name": "stderr"
        },
        {
          "output_type": "stream",
          "text": [
            " Epoch: 150, Loss: 0.9048508158269918\n"
          ],
          "name": "stdout"
        },
        {
          "output_type": "stream",
          "text": [
            "100%|██████████| 53/53 [00:00<00:00, 204.48it/s]\n",
            " 42%|████▏     | 22/53 [00:00<00:00, 214.02it/s]"
          ],
          "name": "stderr"
        },
        {
          "output_type": "stream",
          "text": [
            " Epoch: 151, Loss: 0.904850165798979\n"
          ],
          "name": "stdout"
        },
        {
          "output_type": "stream",
          "text": [
            "100%|██████████| 53/53 [00:00<00:00, 207.24it/s]\n",
            " 40%|███▉      | 21/53 [00:00<00:00, 205.47it/s]"
          ],
          "name": "stderr"
        },
        {
          "output_type": "stream",
          "text": [
            " Epoch: 152, Loss: 0.9048496259833282\n"
          ],
          "name": "stdout"
        },
        {
          "output_type": "stream",
          "text": [
            "100%|██████████| 53/53 [00:00<00:00, 194.29it/s]\n",
            " 40%|███▉      | 21/53 [00:00<00:00, 203.75it/s]"
          ],
          "name": "stderr"
        },
        {
          "output_type": "stream",
          "text": [
            " Epoch: 153, Loss: 0.9048490681738224\n"
          ],
          "name": "stdout"
        },
        {
          "output_type": "stream",
          "text": [
            "100%|██████████| 53/53 [00:00<00:00, 197.04it/s]\n",
            " 40%|███▉      | 21/53 [00:00<00:00, 203.73it/s]"
          ],
          "name": "stderr"
        },
        {
          "output_type": "stream",
          "text": [
            " Epoch: 154, Loss: 0.9048485058658527\n"
          ],
          "name": "stdout"
        },
        {
          "output_type": "stream",
          "text": [
            "100%|██████████| 53/53 [00:00<00:00, 188.64it/s]\n",
            " 38%|███▊      | 20/53 [00:00<00:00, 196.50it/s]"
          ],
          "name": "stderr"
        },
        {
          "output_type": "stream",
          "text": [
            " Epoch: 155, Loss: 0.9048480267794627\n"
          ],
          "name": "stdout"
        },
        {
          "output_type": "stream",
          "text": [
            "100%|██████████| 53/53 [00:00<00:00, 200.48it/s]\n",
            " 40%|███▉      | 21/53 [00:00<00:00, 200.31it/s]"
          ],
          "name": "stderr"
        },
        {
          "output_type": "stream",
          "text": [
            " Epoch: 156, Loss: 0.9048475139545944\n"
          ],
          "name": "stdout"
        },
        {
          "output_type": "stream",
          "text": [
            "100%|██████████| 53/53 [00:00<00:00, 197.58it/s]\n",
            " 42%|████▏     | 22/53 [00:00<00:00, 216.27it/s]"
          ],
          "name": "stderr"
        },
        {
          "output_type": "stream",
          "text": [
            " Epoch: 157, Loss: 0.9048470326189725\n"
          ],
          "name": "stdout"
        },
        {
          "output_type": "stream",
          "text": [
            "100%|██████████| 53/53 [00:00<00:00, 200.89it/s]\n",
            " 36%|███▌      | 19/53 [00:00<00:00, 189.93it/s]"
          ],
          "name": "stderr"
        },
        {
          "output_type": "stream",
          "text": [
            " Epoch: 158, Loss: 0.9048465715264374\n"
          ],
          "name": "stdout"
        },
        {
          "output_type": "stream",
          "text": [
            "100%|██████████| 53/53 [00:00<00:00, 192.00it/s]\n",
            " 40%|███▉      | 21/53 [00:00<00:00, 209.65it/s]"
          ],
          "name": "stderr"
        },
        {
          "output_type": "stream",
          "text": [
            " Epoch: 159, Loss: 0.9048461239292936\n"
          ],
          "name": "stdout"
        },
        {
          "output_type": "stream",
          "text": [
            "100%|██████████| 53/53 [00:00<00:00, 197.34it/s]\n",
            " 32%|███▏      | 17/53 [00:00<00:00, 164.29it/s]"
          ],
          "name": "stderr"
        },
        {
          "output_type": "stream",
          "text": [
            " Epoch: 160, Loss: 0.9048456853290774\n"
          ],
          "name": "stdout"
        },
        {
          "output_type": "stream",
          "text": [
            "100%|██████████| 53/53 [00:00<00:00, 188.01it/s]\n",
            " 43%|████▎     | 23/53 [00:00<00:00, 222.88it/s]"
          ],
          "name": "stderr"
        },
        {
          "output_type": "stream",
          "text": [
            " Epoch: 161, Loss: 0.9048452737196436\n"
          ],
          "name": "stdout"
        },
        {
          "output_type": "stream",
          "text": [
            "100%|██████████| 53/53 [00:00<00:00, 204.24it/s]\n",
            " 43%|████▎     | 23/53 [00:00<00:00, 223.82it/s]"
          ],
          "name": "stderr"
        },
        {
          "output_type": "stream",
          "text": [
            " Epoch: 162, Loss: 0.9048448576117462\n"
          ],
          "name": "stdout"
        },
        {
          "output_type": "stream",
          "text": [
            "100%|██████████| 53/53 [00:00<00:00, 209.19it/s]\n",
            " 42%|████▏     | 22/53 [00:00<00:00, 214.79it/s]"
          ],
          "name": "stderr"
        },
        {
          "output_type": "stream",
          "text": [
            " Epoch: 163, Loss: 0.9048444774915587\n"
          ],
          "name": "stdout"
        },
        {
          "output_type": "stream",
          "text": [
            "100%|██████████| 53/53 [00:00<00:00, 195.67it/s]\n",
            " 42%|████▏     | 22/53 [00:00<00:00, 210.81it/s]"
          ],
          "name": "stderr"
        },
        {
          "output_type": "stream",
          "text": [
            " Epoch: 164, Loss: 0.9048440883744437\n"
          ],
          "name": "stdout"
        },
        {
          "output_type": "stream",
          "text": [
            "100%|██████████| 53/53 [00:00<00:00, 211.20it/s]\n",
            " 42%|████▏     | 22/53 [00:00<00:00, 214.22it/s]"
          ],
          "name": "stderr"
        },
        {
          "output_type": "stream",
          "text": [
            " Epoch: 165, Loss: 0.9048437195004158\n"
          ],
          "name": "stdout"
        },
        {
          "output_type": "stream",
          "text": [
            "100%|██████████| 53/53 [00:00<00:00, 203.49it/s]\n",
            " 42%|████▏     | 22/53 [00:00<00:00, 214.35it/s]"
          ],
          "name": "stderr"
        },
        {
          "output_type": "stream",
          "text": [
            " Epoch: 166, Loss: 0.9048433866140977\n"
          ],
          "name": "stdout"
        },
        {
          "output_type": "stream",
          "text": [
            "100%|██████████| 53/53 [00:00<00:00, 207.52it/s]\n",
            " 42%|████▏     | 22/53 [00:00<00:00, 213.65it/s]"
          ],
          "name": "stderr"
        },
        {
          "output_type": "stream",
          "text": [
            " Epoch: 167, Loss: 0.9048430379831566\n"
          ],
          "name": "stdout"
        },
        {
          "output_type": "stream",
          "text": [
            "100%|██████████| 53/53 [00:00<00:00, 201.45it/s]\n",
            " 42%|████▏     | 22/53 [00:00<00:00, 215.33it/s]"
          ],
          "name": "stderr"
        },
        {
          "output_type": "stream",
          "text": [
            " Epoch: 168, Loss: 0.904842716342998\n"
          ],
          "name": "stdout"
        },
        {
          "output_type": "stream",
          "text": [
            "100%|██████████| 53/53 [00:00<00:00, 200.95it/s]\n",
            " 42%|████▏     | 22/53 [00:00<00:00, 213.67it/s]"
          ],
          "name": "stderr"
        },
        {
          "output_type": "stream",
          "text": [
            " Epoch: 169, Loss: 0.9048424014505351\n"
          ],
          "name": "stdout"
        },
        {
          "output_type": "stream",
          "text": [
            "100%|██████████| 53/53 [00:00<00:00, 199.59it/s]\n",
            " 42%|████▏     | 22/53 [00:00<00:00, 212.19it/s]"
          ],
          "name": "stderr"
        },
        {
          "output_type": "stream",
          "text": [
            " Epoch: 170, Loss: 0.9048420955549996\n"
          ],
          "name": "stdout"
        },
        {
          "output_type": "stream",
          "text": [
            "100%|██████████| 53/53 [00:00<00:00, 209.64it/s]\n",
            " 42%|████▏     | 22/53 [00:00<00:00, 214.09it/s]"
          ],
          "name": "stderr"
        },
        {
          "output_type": "stream",
          "text": [
            " Epoch: 171, Loss: 0.9048418166502467\n"
          ],
          "name": "stdout"
        },
        {
          "output_type": "stream",
          "text": [
            "100%|██████████| 53/53 [00:00<00:00, 201.79it/s]\n",
            " 43%|████▎     | 23/53 [00:00<00:00, 223.68it/s]"
          ],
          "name": "stderr"
        },
        {
          "output_type": "stream",
          "text": [
            " Epoch: 172, Loss: 0.9048415107547112\n"
          ],
          "name": "stdout"
        },
        {
          "output_type": "stream",
          "text": [
            "100%|██████████| 53/53 [00:00<00:00, 213.46it/s]\n",
            " 38%|███▊      | 20/53 [00:00<00:00, 188.14it/s]"
          ],
          "name": "stderr"
        },
        {
          "output_type": "stream",
          "text": [
            " Epoch: 173, Loss: 0.9048412475945815\n"
          ],
          "name": "stdout"
        },
        {
          "output_type": "stream",
          "text": [
            "100%|██████████| 53/53 [00:00<00:00, 194.57it/s]\n",
            " 42%|████▏     | 22/53 [00:00<00:00, 212.16it/s]"
          ],
          "name": "stderr"
        },
        {
          "output_type": "stream",
          "text": [
            " Epoch: 174, Loss: 0.904840959692901\n"
          ],
          "name": "stdout"
        },
        {
          "output_type": "stream",
          "text": [
            "100%|██████████| 53/53 [00:00<00:00, 208.13it/s]\n",
            " 42%|████▏     | 22/53 [00:00<00:00, 216.99it/s]"
          ],
          "name": "stderr"
        },
        {
          "output_type": "stream",
          "text": [
            " Epoch: 175, Loss: 0.9048407122773944\n"
          ],
          "name": "stdout"
        },
        {
          "output_type": "stream",
          "text": [
            "100%|██████████| 53/53 [00:00<00:00, 203.27it/s]\n",
            " 43%|████▎     | 23/53 [00:00<00:00, 221.60it/s]"
          ],
          "name": "stderr"
        },
        {
          "output_type": "stream",
          "text": [
            " Epoch: 176, Loss: 0.9048404761080472\n"
          ],
          "name": "stdout"
        },
        {
          "output_type": "stream",
          "text": [
            "100%|██████████| 53/53 [00:00<00:00, 218.89it/s]\n",
            " 40%|███▉      | 21/53 [00:00<00:00, 207.16it/s]"
          ],
          "name": "stderr"
        },
        {
          "output_type": "stream",
          "text": [
            " Epoch: 177, Loss: 0.9048402196956131\n"
          ],
          "name": "stdout"
        },
        {
          "output_type": "stream",
          "text": [
            "100%|██████████| 53/53 [00:00<00:00, 203.58it/s]\n",
            " 34%|███▍      | 18/53 [00:00<00:00, 175.35it/s]"
          ],
          "name": "stderr"
        },
        {
          "output_type": "stream",
          "text": [
            " Epoch: 178, Loss: 0.9048399925231934\n"
          ],
          "name": "stdout"
        },
        {
          "output_type": "stream",
          "text": [
            "100%|██████████| 53/53 [00:00<00:00, 190.07it/s]\n",
            " 38%|███▊      | 20/53 [00:00<00:00, 195.85it/s]"
          ],
          "name": "stderr"
        },
        {
          "output_type": "stream",
          "text": [
            " Epoch: 179, Loss: 0.9048397855938606\n"
          ],
          "name": "stdout"
        },
        {
          "output_type": "stream",
          "text": [
            "100%|██████████| 53/53 [00:00<00:00, 199.83it/s]\n",
            " 32%|███▏      | 17/53 [00:00<00:00, 164.89it/s]"
          ],
          "name": "stderr"
        },
        {
          "output_type": "stream",
          "text": [
            " Epoch: 180, Loss: 0.9048395539229771\n"
          ],
          "name": "stdout"
        },
        {
          "output_type": "stream",
          "text": [
            "100%|██████████| 53/53 [00:00<00:00, 183.44it/s]\n",
            " 42%|████▏     | 22/53 [00:00<00:00, 216.47it/s]"
          ],
          "name": "stderr"
        },
        {
          "output_type": "stream",
          "text": [
            " Epoch: 181, Loss: 0.9048393447444124\n"
          ],
          "name": "stdout"
        },
        {
          "output_type": "stream",
          "text": [
            "100%|██████████| 53/53 [00:00<00:00, 205.09it/s]\n",
            " 42%|████▏     | 22/53 [00:00<00:00, 215.58it/s]"
          ],
          "name": "stderr"
        },
        {
          "output_type": "stream",
          "text": [
            " Epoch: 182, Loss: 0.904839167055094\n"
          ],
          "name": "stdout"
        },
        {
          "output_type": "stream",
          "text": [
            "100%|██████████| 53/53 [00:00<00:00, 201.06it/s]\n",
            " 36%|███▌      | 19/53 [00:00<00:00, 182.95it/s]"
          ],
          "name": "stderr"
        },
        {
          "output_type": "stream",
          "text": [
            " Epoch: 183, Loss: 0.9048389488796018\n"
          ],
          "name": "stdout"
        },
        {
          "output_type": "stream",
          "text": [
            "100%|██████████| 53/53 [00:00<00:00, 194.50it/s]\n",
            " 43%|████▎     | 23/53 [00:00<00:00, 226.15it/s]"
          ],
          "name": "stderr"
        },
        {
          "output_type": "stream",
          "text": [
            " Epoch: 184, Loss: 0.9048387689410515\n"
          ],
          "name": "stdout"
        },
        {
          "output_type": "stream",
          "text": [
            "100%|██████████| 53/53 [00:00<00:00, 205.30it/s]\n",
            " 43%|████▎     | 23/53 [00:00<00:00, 220.45it/s]"
          ],
          "name": "stderr"
        },
        {
          "output_type": "stream",
          "text": [
            " Epoch: 185, Loss: 0.9048385935009651\n"
          ],
          "name": "stdout"
        },
        {
          "output_type": "stream",
          "text": [
            "100%|██████████| 53/53 [00:00<00:00, 205.26it/s]\n",
            " 40%|███▉      | 21/53 [00:00<00:00, 203.36it/s]"
          ],
          "name": "stderr"
        },
        {
          "output_type": "stream",
          "text": [
            " Epoch: 186, Loss: 0.9048384158116467\n"
          ],
          "name": "stdout"
        },
        {
          "output_type": "stream",
          "text": [
            "100%|██████████| 53/53 [00:00<00:00, 195.32it/s]\n",
            " 43%|████▎     | 23/53 [00:00<00:00, 221.66it/s]"
          ],
          "name": "stderr"
        },
        {
          "output_type": "stream",
          "text": [
            " Epoch: 187, Loss: 0.9048382471192558\n"
          ],
          "name": "stdout"
        },
        {
          "output_type": "stream",
          "text": [
            "100%|██████████| 53/53 [00:00<00:00, 200.84it/s]\n",
            " 42%|████▏     | 22/53 [00:00<00:00, 218.94it/s]"
          ],
          "name": "stderr"
        },
        {
          "output_type": "stream",
          "text": [
            " Epoch: 188, Loss: 0.904838058183778\n"
          ],
          "name": "stdout"
        },
        {
          "output_type": "stream",
          "text": [
            "100%|██████████| 53/53 [00:00<00:00, 203.80it/s]\n",
            " 40%|███▉      | 21/53 [00:00<00:00, 207.25it/s]"
          ],
          "name": "stderr"
        },
        {
          "output_type": "stream",
          "text": [
            " Epoch: 189, Loss: 0.9048379232298653\n"
          ],
          "name": "stdout"
        },
        {
          "output_type": "stream",
          "text": [
            "100%|██████████| 53/53 [00:00<00:00, 203.58it/s]\n",
            " 38%|███▊      | 20/53 [00:00<00:00, 195.58it/s]"
          ],
          "name": "stderr"
        },
        {
          "output_type": "stream",
          "text": [
            " Epoch: 190, Loss: 0.9048377567867063\n"
          ],
          "name": "stdout"
        },
        {
          "output_type": "stream",
          "text": [
            "100%|██████████| 53/53 [00:00<00:00, 194.77it/s]\n",
            " 43%|████▎     | 23/53 [00:00<00:00, 228.01it/s]"
          ],
          "name": "stderr"
        },
        {
          "output_type": "stream",
          "text": [
            " Epoch: 191, Loss: 0.9048376240820255\n"
          ],
          "name": "stdout"
        },
        {
          "output_type": "stream",
          "text": [
            "100%|██████████| 53/53 [00:00<00:00, 206.75it/s]\n",
            " 38%|███▊      | 20/53 [00:00<00:00, 191.67it/s]"
          ],
          "name": "stderr"
        },
        {
          "output_type": "stream",
          "text": [
            " Epoch: 192, Loss: 0.9048374778819535\n"
          ],
          "name": "stdout"
        },
        {
          "output_type": "stream",
          "text": [
            "100%|██████████| 53/53 [00:00<00:00, 189.41it/s]\n",
            " 43%|████▎     | 23/53 [00:00<00:00, 223.03it/s]"
          ],
          "name": "stderr"
        },
        {
          "output_type": "stream",
          "text": [
            " Epoch: 193, Loss: 0.9048373294326494\n"
          ],
          "name": "stdout"
        },
        {
          "output_type": "stream",
          "text": [
            "100%|██████████| 53/53 [00:00<00:00, 210.71it/s]\n",
            " 43%|████▎     | 23/53 [00:00<00:00, 223.25it/s]"
          ],
          "name": "stderr"
        },
        {
          "output_type": "stream",
          "text": [
            " Epoch: 194, Loss: 0.9048371764848817\n"
          ],
          "name": "stdout"
        },
        {
          "output_type": "stream",
          "text": [
            "100%|██████████| 53/53 [00:00<00:00, 202.19it/s]\n",
            " 42%|████▏     | 22/53 [00:00<00:00, 213.89it/s]"
          ],
          "name": "stderr"
        },
        {
          "output_type": "stream",
          "text": [
            " Epoch: 195, Loss: 0.904837041530969\n"
          ],
          "name": "stdout"
        },
        {
          "output_type": "stream",
          "text": [
            "100%|██████████| 53/53 [00:00<00:00, 206.97it/s]\n",
            " 43%|████▎     | 23/53 [00:00<00:00, 226.29it/s]"
          ],
          "name": "stderr"
        },
        {
          "output_type": "stream",
          "text": [
            " Epoch: 196, Loss: 0.9048369178232157\n"
          ],
          "name": "stdout"
        },
        {
          "output_type": "stream",
          "text": [
            "100%|██████████| 53/53 [00:00<00:00, 213.62it/s]\n",
            " 43%|████▎     | 23/53 [00:00<00:00, 225.10it/s]"
          ],
          "name": "stderr"
        },
        {
          "output_type": "stream",
          "text": [
            " Epoch: 197, Loss: 0.9048367851185348\n"
          ],
          "name": "stdout"
        },
        {
          "output_type": "stream",
          "text": [
            "100%|██████████| 53/53 [00:00<00:00, 204.43it/s]\n",
            " 38%|███▊      | 20/53 [00:00<00:00, 197.32it/s]"
          ],
          "name": "stderr"
        },
        {
          "output_type": "stream",
          "text": [
            " Epoch: 198, Loss: 0.9048366546630859\n"
          ],
          "name": "stdout"
        },
        {
          "output_type": "stream",
          "text": [
            "100%|██████████| 53/53 [00:00<00:00, 203.92it/s]"
          ],
          "name": "stderr"
        },
        {
          "output_type": "stream",
          "text": [
            " Epoch: 199, Loss: 0.9048365332045645\n"
          ],
          "name": "stdout"
        },
        {
          "output_type": "stream",
          "text": [
            "\n"
          ],
          "name": "stderr"
        }
      ]
    },
    {
      "cell_type": "code",
      "metadata": {
        "id": "bczvDCfBFDsV",
        "colab_type": "code",
        "outputId": "36a9b0bd-2ca7-478e-a853-5bbea7201708",
        "colab": {
          "base_uri": "https://localhost:8080/",
          "height": 125
        }
      },
      "source": [
        "# from google.colab import drive\n",
        "# drive.mount('/content/drive')"
      ],
      "execution_count": 0,
      "outputs": [
        {
          "output_type": "stream",
          "text": [
            "Go to this URL in a browser: https://accounts.google.com/o/oauth2/auth?client_id=947318989803-6bn6qk8qdgf4n4g3pfee6491hc0brc4i.apps.googleusercontent.com&redirect_uri=urn%3aietf%3awg%3aoauth%3a2.0%3aoob&response_type=code&scope=email%20https%3a%2f%2fwww.googleapis.com%2fauth%2fdocs.test%20https%3a%2f%2fwww.googleapis.com%2fauth%2fdrive%20https%3a%2f%2fwww.googleapis.com%2fauth%2fdrive.photos.readonly%20https%3a%2f%2fwww.googleapis.com%2fauth%2fpeopleapi.readonly\n",
            "\n",
            "Enter your authorization code:\n",
            "··········\n",
            "Mounted at /content/drive\n"
          ],
          "name": "stdout"
        }
      ]
    },
    {
      "cell_type": "code",
      "metadata": {
        "id": "HXJKY7yIyHfs",
        "colab_type": "code",
        "outputId": "28eea2aa-23ad-47ce-dbb7-a2d9ddf3ed49",
        "colab": {
          "base_uri": "https://localhost:8080/",
          "height": 592
        }
      },
      "source": [
        "import matplotlib.pyplot as plt\n",
        "fig = plt.figure(figsize=(20,10))\n",
        "plt.plot(train_losses)\n",
        "# fig.savefig('/content/drive/My Drive/losscurve.png')\n",
        "plt.show()"
      ],
      "execution_count": 0,
      "outputs": [
        {
          "output_type": "display_data",
          "data": {
            "image/png": "[encoded data removed]",
            "text/plain": [
              "<Figure size 1440x720 with 1 Axes>"
            ]
          },
          "metadata": {
            "tags": [],
            "needs_background": "light"
          }
        }
      ]
    },
    {
      "cell_type": "code",
      "metadata": {
        "id": "Loim4aeyyHYV",
        "colab_type": "code",
        "outputId": "2436c49b-90a5-494a-d9c4-e7cbc884900a",
        "colab": {
          "base_uri": "https://localhost:8080/",
          "height": 193
        }
      },
      "source": [
        "test_inp = ratings['movieId'][ratings['userId'] != user_id]\n",
        "test_inp = torch.tensor(test_inp.values, dtype=torch.long).cuda()\n",
        "out = net(test_inp)\n",
        "# print(out.shape)\n",
        "\n",
        "idxs = []\n",
        "for i in range(out.shape[0]):\n",
        "    if torch.argmax(out[i]) >= 4:\n",
        "        idxs.append(i)\n",
        "\n",
        "# print(len(idxs))\n",
        "movie_dict = {idx:title for idx, title in zip(movies['movieID'],movies['title'])}\n",
        "# print(len(movie_dict))\n",
        "recommended = []\n",
        "for idx in idxs:\n",
        "    try:\n",
        "        recommended.append(movie_dict[idx])\n",
        "    except:\n",
        "        pass\n",
        "from pprint import pprint\n",
        "pprint(recommended[:10])"
      ],
      "execution_count": 0,
      "outputs": [
        {
          "output_type": "stream",
          "text": [
            "['Ace Ventura: When Nature Calls (1995)',\n",
            " 'Big Green, The (1995)',\n",
            " 'Two Bits (1995)',\n",
            " 'Congo (1995)',\n",
            " 'First Knight (1995)',\n",
            " 'Johnny Mnemonic (1995)',\n",
            " 'Nine Months (1995)',\n",
            " 'Hideaway (1995)',\n",
            " 'Ladybird Ladybird (1994)',\n",
            " 'Shallow Grave (1994)']\n"
          ],
          "name": "stdout"
        }
      ]
    },
    {
      "cell_type": "code",
      "metadata": {
        "id": "LKgfMGmAG8iB",
        "colab_type": "code",
        "colab": {}
      },
      "source": [
        ""
      ],
      "execution_count": 0,
      "outputs": []
    }
  ]
}