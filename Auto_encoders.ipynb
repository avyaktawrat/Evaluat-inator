{
  "nbformat": 4,
  "nbformat_minor": 0,
  "metadata": {
    "kernelspec": {
      "display_name": "Python 3",
      "language": "python",
      "name": "python3"
    },
    "language_info": {
      "codemirror_mode": {
        "name": "ipython",
        "version": 3
      },
      "file_extension": ".py",
      "mimetype": "text/x-python",
      "name": "python",
      "nbconvert_exporter": "python",
      "pygments_lexer": "ipython3",
      "version": "3.6.4"
    },
    "colab": {
      "name": "Auto_encoders.ipynb.ipynb",
      "provenance": [],
      "collapsed_sections": [],
      "include_colab_link": true
    }
  },
  "cells": [
    {
      "cell_type": "markdown",
      "metadata": {
        "id": "view-in-github",
        "colab_type": "text"
      },
      "source": [
        "<a href=\"https://colab.research.google.com/github/avyaktawrat/Evaluat-inator/blob/master/Auto_encoders.ipynb\" target=\"_parent\"><img src=\"https://colab.research.google.com/assets/colab-badge.svg\" alt=\"Open In Colab\"/></a>"
      ]
    },
    {
      "cell_type": "code",
      "metadata": {
        "id": "1yXsgtrWOSOv",
        "colab_type": "code",
        "colab": {}
      },
      "source": [
        "import numpy as np\n",
        "import pandas as pd\n",
        "import torch\n",
        "import torch.nn as nn\n",
        "import torch.nn.parallel\n",
        "import torch.optim as optim\n",
        "import torch.utils.data\n",
        "from torch.autograd import Variable"
      ],
      "execution_count": 0,
      "outputs": []
    },
    {
      "cell_type": "code",
      "metadata": {
        "id": "DnqTiZ49OSO1",
        "colab_type": "code",
        "colab": {}
      },
      "source": [
        "movies = pd.read_csv('https://github.com/avyaktawrat/Evaluat-inator/raw/master/data/movies.dat', sep = '::', header = None, engine = 'python', encoding = 'latin-1')\n",
        "users = pd.read_csv('https://github.com/avyaktawrat/Evaluat-inator/raw/master/data/users.dat', sep = '::', header = None, engine = 'python', encoding = 'latin-1')\n",
        "ratings = pd.read_csv('https://github.com/avyaktawrat/Evaluat-inator/blob/master/data/ratings.dat?raw=true', sep = '::', header = None, engine = 'python', encoding = 'latin-1')\n",
        "\n",
        "movies.columns = ['movieID', 'title', 'genres']\n",
        "users.columns = ['userId',\t'gender',\t'age_desc',\t'occ_desc', 'zipcode']\n",
        "ratings.columns = ['userId',\t'movieId',\t'rating',\t'timestamp']"
      ],
      "execution_count": 0,
      "outputs": []
    },
    {
      "cell_type": "code",
      "metadata": {
        "id": "BOEh77PaOSO-",
        "colab_type": "code",
        "outputId": "30134579-be2e-4088-85dc-012d45f2b0d5",
        "colab": {
          "base_uri": "https://localhost:8080/",
          "height": 202
        }
      },
      "source": [
        "movies.head()"
      ],
      "execution_count": 3,
      "outputs": [
        {
          "output_type": "execute_result",
          "data": {
            "text/html": [
              "<div>\n",
              "<style scoped>\n",
              "    .dataframe tbody tr th:only-of-type {\n",
              "        vertical-align: middle;\n",
              "    }\n",
              "\n",
              "    .dataframe tbody tr th {\n",
              "        vertical-align: top;\n",
              "    }\n",
              "\n",
              "    .dataframe thead th {\n",
              "        text-align: right;\n",
              "    }\n",
              "</style>\n",
              "<table border=\"1\" class=\"dataframe\">\n",
              "  <thead>\n",
              "    <tr style=\"text-align: right;\">\n",
              "      <th></th>\n",
              "      <th>movieID</th>\n",
              "      <th>title</th>\n",
              "      <th>genres</th>\n",
              "    </tr>\n",
              "  </thead>\n",
              "  <tbody>\n",
              "    <tr>\n",
              "      <th>0</th>\n",
              "      <td>1</td>\n",
              "      <td>Toy Story (1995)</td>\n",
              "      <td>Animation|Children's|Comedy</td>\n",
              "    </tr>\n",
              "    <tr>\n",
              "      <th>1</th>\n",
              "      <td>2</td>\n",
              "      <td>Jumanji (1995)</td>\n",
              "      <td>Adventure|Children's|Fantasy</td>\n",
              "    </tr>\n",
              "    <tr>\n",
              "      <th>2</th>\n",
              "      <td>3</td>\n",
              "      <td>Grumpier Old Men (1995)</td>\n",
              "      <td>Comedy|Romance</td>\n",
              "    </tr>\n",
              "    <tr>\n",
              "      <th>3</th>\n",
              "      <td>4</td>\n",
              "      <td>Waiting to Exhale (1995)</td>\n",
              "      <td>Comedy|Drama</td>\n",
              "    </tr>\n",
              "    <tr>\n",
              "      <th>4</th>\n",
              "      <td>5</td>\n",
              "      <td>Father of the Bride Part II (1995)</td>\n",
              "      <td>Comedy</td>\n",
              "    </tr>\n",
              "  </tbody>\n",
              "</table>\n",
              "</div>"
            ],
            "text/plain": [
              "   movieID                               title                        genres\n",
              "0        1                    Toy Story (1995)   Animation|Children's|Comedy\n",
              "1        2                      Jumanji (1995)  Adventure|Children's|Fantasy\n",
              "2        3             Grumpier Old Men (1995)                Comedy|Romance\n",
              "3        4            Waiting to Exhale (1995)                  Comedy|Drama\n",
              "4        5  Father of the Bride Part II (1995)                        Comedy"
            ]
          },
          "metadata": {
            "tags": []
          },
          "execution_count": 3
        }
      ]
    },
    {
      "cell_type": "code",
      "metadata": {
        "id": "sUc_Ph-cOSPF",
        "colab_type": "code",
        "outputId": "cb0aa887-752c-4363-e7a0-d358a5e5109a",
        "colab": {
          "base_uri": "https://localhost:8080/",
          "height": 202
        }
      },
      "source": [
        "users.head()"
      ],
      "execution_count": 4,
      "outputs": [
        {
          "output_type": "execute_result",
          "data": {
            "text/html": [
              "<div>\n",
              "<style scoped>\n",
              "    .dataframe tbody tr th:only-of-type {\n",
              "        vertical-align: middle;\n",
              "    }\n",
              "\n",
              "    .dataframe tbody tr th {\n",
              "        vertical-align: top;\n",
              "    }\n",
              "\n",
              "    .dataframe thead th {\n",
              "        text-align: right;\n",
              "    }\n",
              "</style>\n",
              "<table border=\"1\" class=\"dataframe\">\n",
              "  <thead>\n",
              "    <tr style=\"text-align: right;\">\n",
              "      <th></th>\n",
              "      <th>userId</th>\n",
              "      <th>gender</th>\n",
              "      <th>age_desc</th>\n",
              "      <th>occ_desc</th>\n",
              "      <th>zipcode</th>\n",
              "    </tr>\n",
              "  </thead>\n",
              "  <tbody>\n",
              "    <tr>\n",
              "      <th>0</th>\n",
              "      <td>1</td>\n",
              "      <td>F</td>\n",
              "      <td>1</td>\n",
              "      <td>10</td>\n",
              "      <td>48067</td>\n",
              "    </tr>\n",
              "    <tr>\n",
              "      <th>1</th>\n",
              "      <td>2</td>\n",
              "      <td>M</td>\n",
              "      <td>56</td>\n",
              "      <td>16</td>\n",
              "      <td>70072</td>\n",
              "    </tr>\n",
              "    <tr>\n",
              "      <th>2</th>\n",
              "      <td>3</td>\n",
              "      <td>M</td>\n",
              "      <td>25</td>\n",
              "      <td>15</td>\n",
              "      <td>55117</td>\n",
              "    </tr>\n",
              "    <tr>\n",
              "      <th>3</th>\n",
              "      <td>4</td>\n",
              "      <td>M</td>\n",
              "      <td>45</td>\n",
              "      <td>7</td>\n",
              "      <td>02460</td>\n",
              "    </tr>\n",
              "    <tr>\n",
              "      <th>4</th>\n",
              "      <td>5</td>\n",
              "      <td>M</td>\n",
              "      <td>25</td>\n",
              "      <td>20</td>\n",
              "      <td>55455</td>\n",
              "    </tr>\n",
              "  </tbody>\n",
              "</table>\n",
              "</div>"
            ],
            "text/plain": [
              "   userId gender  age_desc  occ_desc zipcode\n",
              "0       1      F         1        10   48067\n",
              "1       2      M        56        16   70072\n",
              "2       3      M        25        15   55117\n",
              "3       4      M        45         7   02460\n",
              "4       5      M        25        20   55455"
            ]
          },
          "metadata": {
            "tags": []
          },
          "execution_count": 4
        }
      ]
    },
    {
      "cell_type": "code",
      "metadata": {
        "id": "u-CV0clBOSPL",
        "colab_type": "code",
        "outputId": "e7f15133-90f3-4f43-b27c-ade6ab46f740",
        "colab": {
          "base_uri": "https://localhost:8080/",
          "height": 202
        }
      },
      "source": [
        "ratings.head()"
      ],
      "execution_count": 5,
      "outputs": [
        {
          "output_type": "execute_result",
          "data": {
            "text/html": [
              "<div>\n",
              "<style scoped>\n",
              "    .dataframe tbody tr th:only-of-type {\n",
              "        vertical-align: middle;\n",
              "    }\n",
              "\n",
              "    .dataframe tbody tr th {\n",
              "        vertical-align: top;\n",
              "    }\n",
              "\n",
              "    .dataframe thead th {\n",
              "        text-align: right;\n",
              "    }\n",
              "</style>\n",
              "<table border=\"1\" class=\"dataframe\">\n",
              "  <thead>\n",
              "    <tr style=\"text-align: right;\">\n",
              "      <th></th>\n",
              "      <th>userId</th>\n",
              "      <th>movieId</th>\n",
              "      <th>rating</th>\n",
              "      <th>timestamp</th>\n",
              "    </tr>\n",
              "  </thead>\n",
              "  <tbody>\n",
              "    <tr>\n",
              "      <th>0</th>\n",
              "      <td>1</td>\n",
              "      <td>1193</td>\n",
              "      <td>5</td>\n",
              "      <td>978300760</td>\n",
              "    </tr>\n",
              "    <tr>\n",
              "      <th>1</th>\n",
              "      <td>1</td>\n",
              "      <td>661</td>\n",
              "      <td>3</td>\n",
              "      <td>978302109</td>\n",
              "    </tr>\n",
              "    <tr>\n",
              "      <th>2</th>\n",
              "      <td>1</td>\n",
              "      <td>914</td>\n",
              "      <td>3</td>\n",
              "      <td>978301968</td>\n",
              "    </tr>\n",
              "    <tr>\n",
              "      <th>3</th>\n",
              "      <td>1</td>\n",
              "      <td>3408</td>\n",
              "      <td>4</td>\n",
              "      <td>978300275</td>\n",
              "    </tr>\n",
              "    <tr>\n",
              "      <th>4</th>\n",
              "      <td>1</td>\n",
              "      <td>2355</td>\n",
              "      <td>5</td>\n",
              "      <td>978824291</td>\n",
              "    </tr>\n",
              "  </tbody>\n",
              "</table>\n",
              "</div>"
            ],
            "text/plain": [
              "   userId  movieId  rating  timestamp\n",
              "0       1     1193       5  978300760\n",
              "1       1      661       3  978302109\n",
              "2       1      914       3  978301968\n",
              "3       1     3408       4  978300275\n",
              "4       1     2355       5  978824291"
            ]
          },
          "metadata": {
            "tags": []
          },
          "execution_count": 5
        }
      ]
    },
    {
      "cell_type": "code",
      "metadata": {
        "id": "eQkySWcZm9V4",
        "colab_type": "code",
        "colab": {}
      },
      "source": [
        "from sklearn.model_selection import KFold"
      ],
      "execution_count": 0,
      "outputs": []
    },
    {
      "cell_type": "code",
      "metadata": {
        "id": "OdnBNsQjpcu3",
        "colab_type": "code",
        "outputId": "0412d753-e230-4c74-8918-777d600ec24c",
        "colab": {
          "base_uri": "https://localhost:8080/",
          "height": 35
        }
      },
      "source": [
        "cv = KFold(5, True, random_state=42)\n",
        "cv"
      ],
      "execution_count": 8,
      "outputs": [
        {
          "output_type": "execute_result",
          "data": {
            "text/plain": [
              "KFold(n_splits=5, random_state=42, shuffle=True)"
            ]
          },
          "metadata": {
            "tags": []
          },
          "execution_count": 8
        }
      ]
    },
    {
      "cell_type": "code",
      "metadata": {
        "id": "2jPNyIFdtRGl",
        "colab_type": "code",
        "colab": {}
      },
      "source": [
        "ratings_np = ratings.to_numpy()"
      ],
      "execution_count": 0,
      "outputs": []
    },
    {
      "cell_type": "code",
      "metadata": {
        "id": "l8YuZ1s7qD8b",
        "colab_type": "code",
        "outputId": "ea93fed8-83bb-4439-864c-bc36a5a5daa7",
        "colab": {
          "base_uri": "https://localhost:8080/",
          "height": 156
        }
      },
      "source": [
        "for train, test in cv.split(ratings_np):\n",
        "  training_set = ratings_np[train]\n",
        "  test_set = ratings_np[test]\n",
        "  break\n",
        "print('train: %s, test: %s' % (training_set, test_set.shape))\n",
        "training_set.shape"
      ],
      "execution_count": 10,
      "outputs": [
        {
          "output_type": "stream",
          "text": [
            "train: [[        1       661         3 978302109]\n",
            " [        1       914         3 978301968]\n",
            " [        1      3408         4 978300275]\n",
            " ...\n",
            " [     6040      1094         5 956704887]\n",
            " [     6040      1096         4 956715648]\n",
            " [     6040      1097         4 956715569]], test: (200042, 4)\n"
          ],
          "name": "stdout"
        },
        {
          "output_type": "execute_result",
          "data": {
            "text/plain": [
              "(800167, 4)"
            ]
          },
          "metadata": {
            "tags": []
          },
          "execution_count": 10
        }
      ]
    },
    {
      "cell_type": "code",
      "metadata": {
        "id": "zeiarnNZOSPn",
        "colab_type": "code",
        "colab": {}
      },
      "source": [
        "# Preparing the training set and the test set\n",
        "# training_set = pd.read_csv('u1.base', delimiter = '\\t')\n",
        "# print(training_set.head())\n",
        "# training_set = np.array(training_set, dtype = 'int')\n",
        "# test_set = pd.read_csv('u1.test', delimiter = '\\t')\n",
        "# test_set = np.array(test_set, dtype = 'int')"
      ],
      "execution_count": 0,
      "outputs": []
    },
    {
      "cell_type": "code",
      "metadata": {
        "id": "OY2gue1XjeDT",
        "colab_type": "code",
        "outputId": "f9276b28-d54e-43f3-90e7-15acbdd7c599",
        "colab": {
          "base_uri": "https://localhost:8080/",
          "height": 35
        }
      },
      "source": [
        "training_set.shape"
      ],
      "execution_count": 12,
      "outputs": [
        {
          "output_type": "execute_result",
          "data": {
            "text/plain": [
              "(800167, 4)"
            ]
          },
          "metadata": {
            "tags": []
          },
          "execution_count": 12
        }
      ]
    },
    {
      "cell_type": "code",
      "metadata": {
        "id": "E38bv3m9OSPr",
        "colab_type": "code",
        "colab": {}
      },
      "source": [
        "np.save('training_set.npy',training_set)\n",
        "np.save('test_set.npy',test_set)"
      ],
      "execution_count": 0,
      "outputs": []
    },
    {
      "cell_type": "code",
      "metadata": {
        "id": "kjhC4lwZOSPv",
        "colab_type": "code",
        "colab": {}
      },
      "source": [
        "# training_set = np.load('training_set.npy')"
      ],
      "execution_count": 0,
      "outputs": []
    },
    {
      "cell_type": "code",
      "metadata": {
        "id": "hNGJV-LqOSPy",
        "colab_type": "code",
        "colab": {}
      },
      "source": [
        "# test_set = np.load('test_set.npy')"
      ],
      "execution_count": 0,
      "outputs": []
    },
    {
      "cell_type": "code",
      "metadata": {
        "id": "7DSFpNgiOSP3",
        "colab_type": "code",
        "colab": {}
      },
      "source": [
        "# Getting the number of users and movies\n",
        "nb_users = int(max(max(training_set[:,0]), max(test_set[:,0])))\n",
        "nb_movies = int(max(max(training_set[:,1]), max(test_set[:,1])))"
      ],
      "execution_count": 0,
      "outputs": []
    },
    {
      "cell_type": "code",
      "metadata": {
        "id": "3xO0kF5mOSP7",
        "colab_type": "code",
        "colab": {}
      },
      "source": [
        "# Why doing this ? Because we want to create a new structure of data, having the shape of a 2d array where:\n",
        "\n",
        "#    the rows are the users,\n",
        "#    the columns are the movies,\n",
        "#    the cells are the ratings."
      ],
      "execution_count": 0,
      "outputs": []
    },
    {
      "cell_type": "code",
      "metadata": {
        "id": "IkK3_sOpOSQA",
        "colab_type": "code",
        "colab": {}
      },
      "source": [
        "def convert(data):\n",
        "    new_data = []\n",
        "    for id_users in range(1,nb_users+1):\n",
        "        id_movies = data[:,1][data[:,0] == id_users]\n",
        "        id_ratings = data[:,2][data[:,0] == id_users]\n",
        "        #all rows such that first coloumn is id_users\n",
        "        ratings = np.zeros(nb_movies)\n",
        "        ratings[id_movies - 1] = id_ratings\n",
        "        new_data.append(list(ratings))\n",
        "    return new_data"
      ],
      "execution_count": 0,
      "outputs": []
    },
    {
      "cell_type": "code",
      "metadata": {
        "id": "fFDuPwFXOSQD",
        "colab_type": "code",
        "colab": {}
      },
      "source": [
        "training_set = convert(training_set)"
      ],
      "execution_count": 0,
      "outputs": []
    },
    {
      "cell_type": "code",
      "metadata": {
        "id": "YZCudMJdOSQI",
        "colab_type": "code",
        "colab": {}
      },
      "source": [
        "test_set = convert(test_set)"
      ],
      "execution_count": 0,
      "outputs": []
    },
    {
      "cell_type": "code",
      "metadata": {
        "id": "H0bsC80mOSQP",
        "colab_type": "code",
        "colab": {}
      },
      "source": [
        "np.save('training_set_proc.npy',training_set)\n",
        "np.save('test_set_proc.npy',test_set)\n",
        "# training_set = np.load('training_set_proc.npy')\n",
        "# test_set = np.load('test_set_proc.npy')"
      ],
      "execution_count": 0,
      "outputs": []
    },
    {
      "cell_type": "code",
      "metadata": {
        "id": "DAW_30W6OSQV",
        "colab_type": "code",
        "colab": {}
      },
      "source": [
        "training_set = torch.FloatTensor(training_set)\n",
        "test_set = torch.FloatTensor(test_set)"
      ],
      "execution_count": 0,
      "outputs": []
    },
    {
      "cell_type": "code",
      "metadata": {
        "id": "orK7CySpOSQX",
        "colab_type": "code",
        "colab": {}
      },
      "source": [
        "class SAE(nn.Module):\n",
        "    def __init__(self, ):\n",
        "        # super function is used to use classes of parent class\n",
        "        super(SAE,self).__init__()\n",
        "        # by this we can get all the inherited classes of nn.Module\n",
        "        # first argument is the features, second is the the number of units\n",
        "        self.fc1 = nn.Linear(nb_movies, 20)\n",
        "        self.fc2 = nn.Linear(20,10) #second layer has 10 neurons\n",
        "        self.fc3 = nn.Linear(10,20)\n",
        "        self.fc4 = nn.Linear(20,nb_movies)\n",
        "        self.activation = nn.Sigmoid()\n",
        "        self.activation_t = nn.Tanh()\n",
        "    def forward(self, x):\n",
        "        x = self.activation(self.fc1(x))\n",
        "        x = self.activation_t(self.fc2(x))\n",
        "        x = self.activation(self.fc3(x))\n",
        "        x = self.fc4(x)\n",
        "        return x"
      ],
      "execution_count": 0,
      "outputs": []
    },
    {
      "cell_type": "code",
      "metadata": {
        "id": "qsnhixn0OSQb",
        "colab_type": "code",
        "colab": {}
      },
      "source": [
        "sae = SAE()\n",
        "criterion = nn.MSELoss()\n",
        "optimizer = optim.Adam(sae.parameters(),lr=0.01,weight_decay=0.5)\n",
        "#decay is used for regulating the steps of the optimizer"
      ],
      "execution_count": 0,
      "outputs": []
    },
    {
      "cell_type": "code",
      "metadata": {
        "id": "d72X1Jc7OSQk",
        "colab_type": "code",
        "colab": {}
      },
      "source": [
        "#Training the AutoEncoders"
      ],
      "execution_count": 0,
      "outputs": []
    },
    {
      "cell_type": "code",
      "metadata": {
        "id": "I6wxSi5eOSQp",
        "colab_type": "code",
        "colab": {}
      },
      "source": [
        "nb_epoch = 200\n",
        "loss_iteration = np.zeros(nb_epoch)"
      ],
      "execution_count": 0,
      "outputs": []
    },
    {
      "cell_type": "code",
      "metadata": {
        "id": "f9BVX1RdOSQu",
        "colab_type": "code",
        "outputId": "37de3ee3-01cf-4e82-aaef-9c1729f88680",
        "colab": {
          "base_uri": "https://localhost:8080/",
          "height": 1000
        }
      },
      "source": [
        "for epoch in range(1,nb_epoch+1):\n",
        "    train_loss = 0\n",
        "    #number of users who at least rated one movie to reduce the computation\n",
        "    s = 0. #RMSE needs a float\n",
        "    for id_user in range(nb_users):\n",
        "        input = Variable(training_set[id_user,:]).unsqueeze(0) #dimension for a batch is also added here on the 0th axis\n",
        "        #weights in this code are updated after each i/p vector\n",
        "        target = input.clone() #target is the input\n",
        "        if torch.sum(target.data > 0) > 0:\n",
        "            # if the user has rated atleast one movie\n",
        "            output = sae(input) #predicted ratings are returned for this particular user\n",
        "            target.require_grad = False #gradient is a clone of i/p so now its gradient won't be calculated\n",
        "            output[target == 0] = 0 #These are zeros so they don't need to be included in the computation\n",
        "            loss = criterion(output, target)\n",
        "            mean_corrector = nb_movies/float(torch.sum(target.data > 0) + 1e-10) #denominator should not be zero\n",
        "            # it is the average of the error with non-zero ratings\n",
        "            loss.backward()\n",
        "            train_loss = train_loss + np.sqrt(loss.detach()*mean_corrector) #loss.data[0] is the loss value\n",
        "            s= s+1\n",
        "            optimizer.step()\n",
        "            # backward decides the direction(increased or decreased) of the weights and optimizer decides their intensities\n",
        "\n",
        "    loss_iteration[epoch-1] = train_loss/s\n",
        "    print('epoch: '+str(epoch)+ ' loss: '+ str(train_loss/s)) #train loss divided by number of users with atleast one rating\n",
        "    "
      ],
      "execution_count": 27,
      "outputs": [
        {
          "output_type": "stream",
          "text": [
            "epoch: 1 loss: tensor(1.3380)\n",
            "epoch: 2 loss: tensor(1.0004)\n",
            "epoch: 3 loss: tensor(0.9820)\n",
            "epoch: 4 loss: tensor(0.9758)\n",
            "epoch: 5 loss: tensor(0.9730)\n",
            "epoch: 6 loss: tensor(0.9714)\n",
            "epoch: 7 loss: tensor(0.9704)\n",
            "epoch: 8 loss: tensor(0.9697)\n",
            "epoch: 9 loss: tensor(0.9692)\n",
            "epoch: 10 loss: tensor(0.9688)\n",
            "epoch: 11 loss: tensor(0.9685)\n",
            "epoch: 12 loss: tensor(0.9683)\n",
            "epoch: 13 loss: tensor(0.9681)\n",
            "epoch: 14 loss: tensor(0.9680)\n",
            "epoch: 15 loss: tensor(0.9678)\n",
            "epoch: 16 loss: tensor(0.9677)\n",
            "epoch: 17 loss: tensor(0.9676)\n",
            "epoch: 18 loss: tensor(0.9675)\n",
            "epoch: 19 loss: tensor(0.9674)\n",
            "epoch: 20 loss: tensor(0.9674)\n",
            "epoch: 21 loss: tensor(0.9673)\n",
            "epoch: 22 loss: tensor(0.9673)\n",
            "epoch: 23 loss: tensor(0.9672)\n",
            "epoch: 24 loss: tensor(0.9672)\n",
            "epoch: 25 loss: tensor(0.9671)\n",
            "epoch: 26 loss: tensor(0.9671)\n",
            "epoch: 27 loss: tensor(0.9670)\n",
            "epoch: 28 loss: tensor(0.9670)\n",
            "epoch: 29 loss: tensor(0.9670)\n",
            "epoch: 30 loss: tensor(0.9670)\n",
            "epoch: 31 loss: tensor(0.9669)\n",
            "epoch: 32 loss: tensor(0.9669)\n",
            "epoch: 33 loss: tensor(0.9669)\n",
            "epoch: 34 loss: tensor(0.9669)\n",
            "epoch: 35 loss: tensor(0.9668)\n",
            "epoch: 36 loss: tensor(0.9668)\n",
            "epoch: 37 loss: tensor(0.9668)\n",
            "epoch: 38 loss: tensor(0.9668)\n",
            "epoch: 39 loss: tensor(0.9668)\n",
            "epoch: 40 loss: tensor(0.9668)\n",
            "epoch: 41 loss: tensor(0.9667)\n",
            "epoch: 42 loss: tensor(0.9667)\n",
            "epoch: 43 loss: tensor(0.9667)\n",
            "epoch: 44 loss: tensor(0.9667)\n",
            "epoch: 45 loss: tensor(0.9667)\n",
            "epoch: 46 loss: tensor(0.9667)\n",
            "epoch: 47 loss: tensor(0.9667)\n",
            "epoch: 48 loss: tensor(0.9663)\n",
            "epoch: 49 loss: tensor(0.9656)\n",
            "epoch: 50 loss: tensor(0.9649)\n",
            "epoch: 51 loss: tensor(0.9638)\n",
            "epoch: 52 loss: tensor(0.9645)\n",
            "epoch: 53 loss: tensor(0.9643)\n",
            "epoch: 54 loss: tensor(0.9639)\n",
            "epoch: 55 loss: tensor(0.9628)\n",
            "epoch: 56 loss: tensor(0.9614)\n",
            "epoch: 57 loss: tensor(0.9613)\n",
            "epoch: 58 loss: tensor(0.9614)\n",
            "epoch: 59 loss: tensor(0.9607)\n",
            "epoch: 60 loss: tensor(0.9618)\n",
            "epoch: 61 loss: tensor(0.9609)\n",
            "epoch: 62 loss: tensor(0.9593)\n",
            "epoch: 63 loss: tensor(0.9582)\n",
            "epoch: 64 loss: tensor(0.9588)\n",
            "epoch: 65 loss: tensor(0.9578)\n",
            "epoch: 66 loss: tensor(0.9566)\n",
            "epoch: 67 loss: tensor(0.9587)\n",
            "epoch: 68 loss: tensor(0.9617)\n",
            "epoch: 69 loss: tensor(0.9594)\n",
            "epoch: 70 loss: tensor(0.9597)\n",
            "epoch: 71 loss: tensor(0.9579)\n",
            "epoch: 72 loss: tensor(0.9577)\n",
            "epoch: 73 loss: tensor(0.9585)\n",
            "epoch: 74 loss: tensor(0.9565)\n",
            "epoch: 75 loss: tensor(0.9566)\n",
            "epoch: 76 loss: tensor(0.9567)\n",
            "epoch: 77 loss: tensor(0.9562)\n",
            "epoch: 78 loss: tensor(0.9572)\n",
            "epoch: 79 loss: tensor(0.9576)\n",
            "epoch: 80 loss: tensor(0.9561)\n",
            "epoch: 81 loss: tensor(0.9534)\n",
            "epoch: 82 loss: tensor(0.9523)\n",
            "epoch: 83 loss: tensor(0.9520)\n",
            "epoch: 84 loss: tensor(0.9499)\n",
            "epoch: 85 loss: tensor(0.9480)\n",
            "epoch: 86 loss: tensor(0.9479)\n",
            "epoch: 87 loss: tensor(0.9482)\n",
            "epoch: 88 loss: tensor(0.9470)\n",
            "epoch: 89 loss: tensor(0.9481)\n",
            "epoch: 90 loss: tensor(0.9458)\n",
            "epoch: 91 loss: tensor(0.9438)\n",
            "epoch: 92 loss: tensor(0.9404)\n",
            "epoch: 93 loss: tensor(0.9386)\n",
            "epoch: 94 loss: tensor(0.9362)\n",
            "epoch: 95 loss: tensor(0.9338)\n",
            "epoch: 96 loss: tensor(0.9369)\n",
            "epoch: 97 loss: tensor(0.9359)\n",
            "epoch: 98 loss: tensor(0.9365)\n",
            "epoch: 99 loss: tensor(0.9332)\n",
            "epoch: 100 loss: tensor(0.9341)\n",
            "epoch: 101 loss: tensor(0.9353)\n",
            "epoch: 102 loss: tensor(0.9374)\n",
            "epoch: 103 loss: tensor(0.9390)\n",
            "epoch: 104 loss: tensor(0.9364)\n",
            "epoch: 105 loss: tensor(0.9346)\n",
            "epoch: 106 loss: tensor(0.9346)\n",
            "epoch: 107 loss: tensor(0.9358)\n",
            "epoch: 108 loss: tensor(0.9447)\n",
            "epoch: 109 loss: tensor(0.9461)\n",
            "epoch: 110 loss: tensor(0.9404)\n",
            "epoch: 111 loss: tensor(0.9373)\n",
            "epoch: 112 loss: tensor(0.9371)\n",
            "epoch: 113 loss: tensor(0.9329)\n",
            "epoch: 114 loss: tensor(0.9311)\n",
            "epoch: 115 loss: tensor(0.9298)\n",
            "epoch: 116 loss: tensor(0.9293)\n",
            "epoch: 117 loss: tensor(0.9339)\n",
            "epoch: 118 loss: tensor(0.9354)\n",
            "epoch: 119 loss: tensor(0.9350)\n",
            "epoch: 120 loss: tensor(0.9342)\n",
            "epoch: 121 loss: tensor(0.9325)\n",
            "epoch: 122 loss: tensor(0.9310)\n",
            "epoch: 123 loss: tensor(0.9289)\n",
            "epoch: 124 loss: tensor(0.9296)\n",
            "epoch: 125 loss: tensor(0.9301)\n",
            "epoch: 126 loss: tensor(0.9274)\n",
            "epoch: 127 loss: tensor(0.9275)\n",
            "epoch: 128 loss: tensor(0.9270)\n",
            "epoch: 129 loss: tensor(0.9249)\n",
            "epoch: 130 loss: tensor(0.9232)\n",
            "epoch: 131 loss: tensor(0.9271)\n",
            "epoch: 132 loss: tensor(0.9252)\n",
            "epoch: 133 loss: tensor(0.9215)\n",
            "epoch: 134 loss: tensor(0.9196)\n",
            "epoch: 135 loss: tensor(0.9195)\n",
            "epoch: 136 loss: tensor(0.9219)\n",
            "epoch: 137 loss: tensor(0.9194)\n",
            "epoch: 138 loss: tensor(0.9187)\n",
            "epoch: 139 loss: tensor(0.9189)\n",
            "epoch: 140 loss: tensor(0.9183)\n",
            "epoch: 141 loss: tensor(0.9162)\n",
            "epoch: 142 loss: tensor(0.9154)\n",
            "epoch: 143 loss: tensor(0.9169)\n",
            "epoch: 144 loss: tensor(0.9147)\n",
            "epoch: 145 loss: tensor(0.9141)\n",
            "epoch: 146 loss: tensor(0.9147)\n",
            "epoch: 147 loss: tensor(0.9127)\n",
            "epoch: 148 loss: tensor(0.9134)\n",
            "epoch: 149 loss: tensor(0.9128)\n",
            "epoch: 150 loss: tensor(0.9120)\n",
            "epoch: 151 loss: tensor(0.9112)\n",
            "epoch: 152 loss: tensor(0.9092)\n",
            "epoch: 153 loss: tensor(0.9087)\n",
            "epoch: 154 loss: tensor(0.9077)\n",
            "epoch: 155 loss: tensor(0.9091)\n",
            "epoch: 156 loss: tensor(0.9095)\n",
            "epoch: 157 loss: tensor(0.9109)\n",
            "epoch: 158 loss: tensor(0.9134)\n",
            "epoch: 159 loss: tensor(0.9113)\n",
            "epoch: 160 loss: tensor(0.9124)\n",
            "epoch: 161 loss: tensor(0.9084)\n",
            "epoch: 162 loss: tensor(0.9080)\n",
            "epoch: 163 loss: tensor(0.9078)\n",
            "epoch: 164 loss: tensor(0.9077)\n",
            "epoch: 165 loss: tensor(0.9084)\n",
            "epoch: 166 loss: tensor(0.9083)\n",
            "epoch: 167 loss: tensor(0.9142)\n",
            "epoch: 168 loss: tensor(0.9093)\n",
            "epoch: 169 loss: tensor(0.9083)\n",
            "epoch: 170 loss: tensor(0.9096)\n",
            "epoch: 171 loss: tensor(0.9071)\n",
            "epoch: 172 loss: tensor(0.9066)\n",
            "epoch: 173 loss: tensor(0.9058)\n",
            "epoch: 174 loss: tensor(0.9055)\n",
            "epoch: 175 loss: tensor(0.9062)\n",
            "epoch: 176 loss: tensor(0.9051)\n",
            "epoch: 177 loss: tensor(0.9048)\n",
            "epoch: 178 loss: tensor(0.9036)\n",
            "epoch: 179 loss: tensor(0.9049)\n",
            "epoch: 180 loss: tensor(0.9041)\n",
            "epoch: 181 loss: tensor(0.9026)\n",
            "epoch: 182 loss: tensor(0.9021)\n",
            "epoch: 183 loss: tensor(0.9023)\n",
            "epoch: 184 loss: tensor(0.9012)\n",
            "epoch: 185 loss: tensor(0.9006)\n",
            "epoch: 186 loss: tensor(0.9023)\n",
            "epoch: 187 loss: tensor(0.9007)\n",
            "epoch: 188 loss: tensor(0.9000)\n",
            "epoch: 189 loss: tensor(0.9030)\n",
            "epoch: 190 loss: tensor(0.9050)\n",
            "epoch: 191 loss: tensor(0.9040)\n",
            "epoch: 192 loss: tensor(0.9049)\n",
            "epoch: 193 loss: tensor(0.9047)\n",
            "epoch: 194 loss: tensor(0.9040)\n",
            "epoch: 195 loss: tensor(0.9037)\n",
            "epoch: 196 loss: tensor(0.9038)\n",
            "epoch: 197 loss: tensor(0.9026)\n",
            "epoch: 198 loss: tensor(0.9036)\n",
            "epoch: 199 loss: tensor(0.9022)\n",
            "epoch: 200 loss: tensor(0.9013)\n"
          ],
          "name": "stdout"
        }
      ]
    },
    {
      "cell_type": "code",
      "metadata": {
        "id": "-i3c5r9xOSQx",
        "colab_type": "code",
        "outputId": "8e72214f-d4c2-48a6-d330-e98ab5b68734",
        "colab": {
          "base_uri": "https://localhost:8080/",
          "height": 35
        }
      },
      "source": [
        "test_loss = 0\n",
        "s = 0.\n",
        "for id_user in range(nb_users):\n",
        "    input = Variable(training_set[id_user,:]).unsqueeze(0) #because we are predicting ratings for that user\n",
        "    target = Variable(test_set[id_user,:]).unsqueeze(0)\n",
        "    if torch.sum(target.data > 0) > 0:\n",
        "        s+=1.\n",
        "        output = sae(input)\n",
        "        target.require_grad = False\n",
        "        output[target == 0] = 0\n",
        "        pred_loss = criterion(output, target)\n",
        "        mean_corrector = nb_movies/float(torch.sum(target.data > 0) + 1e-10)\n",
        "        test_loss += np.sqrt(pred_loss.detach()*mean_corrector)\n",
        "print('test loss: '+ str(test_loss/s))"
      ],
      "execution_count": 28,
      "outputs": [
        {
          "output_type": "stream",
          "text": [
            "test loss: tensor(0.9310)\n"
          ],
          "name": "stdout"
        }
      ]
    },
    {
      "cell_type": "markdown",
      "metadata": {
        "id": "OAMznU7VjAPm",
        "colab_type": "text"
      },
      "source": [
        "***Sanity Check***"
      ]
    },
    {
      "cell_type": "code",
      "metadata": {
        "id": "cVcQpF_uOSQz",
        "colab_type": "code",
        "colab": {}
      },
      "source": [
        "user_rating = ratings.groupby('userId').size()\n",
        "input = Variable(training_set[np.argmax(user_rating),:]).unsqueeze(0)\n",
        "output = sae(input)\n",
        "# rec_movie = movies['title'][movies['movieID'] == np.argmax(output.detach().numpy())]\n",
        "# rec_movie_genres = movies['genres'][movies['movieID'] == np.argmax(output.detach().numpy())]\n",
        "# rec_movie_genres"
      ],
      "execution_count": 0,
      "outputs": []
    },
    {
      "cell_type": "code",
      "metadata": {
        "id": "TxJhsm29kSpH",
        "colab_type": "code",
        "outputId": "90e6124f-4fac-4bb9-8ea7-2aa1cadc63f4",
        "colab": {
          "base_uri": "https://localhost:8080/",
          "height": 355
        }
      },
      "source": [
        "rec_movie_id = movies[\"movieID\"]\n",
        "id_movies = np.arange(1,max(rec_movie_id)+1)\n",
        "\n",
        "rec_movie = pd.DataFrame(np.transpose(output.detach().numpy()), index=id_movies, columns=[\"Rating\"])\n",
        "rec_movie.sort_values('Rating',ascending=False)[:10]"
      ],
      "execution_count": 30,
      "outputs": [
        {
          "output_type": "execute_result",
          "data": {
            "text/html": [
              "<div>\n",
              "<style scoped>\n",
              "    .dataframe tbody tr th:only-of-type {\n",
              "        vertical-align: middle;\n",
              "    }\n",
              "\n",
              "    .dataframe tbody tr th {\n",
              "        vertical-align: top;\n",
              "    }\n",
              "\n",
              "    .dataframe thead th {\n",
              "        text-align: right;\n",
              "    }\n",
              "</style>\n",
              "<table border=\"1\" class=\"dataframe\">\n",
              "  <thead>\n",
              "    <tr style=\"text-align: right;\">\n",
              "      <th></th>\n",
              "      <th>Rating</th>\n",
              "    </tr>\n",
              "  </thead>\n",
              "  <tbody>\n",
              "    <tr>\n",
              "      <th>557</th>\n",
              "      <td>5.183513</td>\n",
              "    </tr>\n",
              "    <tr>\n",
              "      <th>787</th>\n",
              "      <td>4.841122</td>\n",
              "    </tr>\n",
              "    <tr>\n",
              "      <th>729</th>\n",
              "      <td>4.833947</td>\n",
              "    </tr>\n",
              "    <tr>\n",
              "      <th>3245</th>\n",
              "      <td>4.771235</td>\n",
              "    </tr>\n",
              "    <tr>\n",
              "      <th>2019</th>\n",
              "      <td>4.688835</td>\n",
              "    </tr>\n",
              "    <tr>\n",
              "      <th>2503</th>\n",
              "      <td>4.659563</td>\n",
              "    </tr>\n",
              "    <tr>\n",
              "      <th>2999</th>\n",
              "      <td>4.644917</td>\n",
              "    </tr>\n",
              "    <tr>\n",
              "      <th>53</th>\n",
              "      <td>4.599221</td>\n",
              "    </tr>\n",
              "    <tr>\n",
              "      <th>3307</th>\n",
              "      <td>4.570691</td>\n",
              "    </tr>\n",
              "    <tr>\n",
              "      <th>578</th>\n",
              "      <td>4.552640</td>\n",
              "    </tr>\n",
              "  </tbody>\n",
              "</table>\n",
              "</div>"
            ],
            "text/plain": [
              "        Rating\n",
              "557   5.183513\n",
              "787   4.841122\n",
              "729   4.833947\n",
              "3245  4.771235\n",
              "2019  4.688835\n",
              "2503  4.659563\n",
              "2999  4.644917\n",
              "53    4.599221\n",
              "3307  4.570691\n",
              "578   4.552640"
            ]
          },
          "metadata": {
            "tags": []
          },
          "execution_count": 30
        }
      ]
    }
  ]
}