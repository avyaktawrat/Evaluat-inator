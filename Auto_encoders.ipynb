{
  "nbformat": 4,
  "nbformat_minor": 0,
  "metadata": {
    "kernelspec": {
      "display_name": "Python 3",
      "language": "python",
      "name": "python3"
    },
    "language_info": {
      "codemirror_mode": {
        "name": "ipython",
        "version": 3
      },
      "file_extension": ".py",
      "mimetype": "text/x-python",
      "name": "python",
      "nbconvert_exporter": "python",
      "pygments_lexer": "ipython3",
      "version": "3.6.4"
    },
    "colab": {
      "name": "Copy of Recommendation System.ipynb",
      "provenance": [],
      "include_colab_link": true
    }
  },
  "cells": [
    {
      "cell_type": "markdown",
      "metadata": {
        "id": "view-in-github",
        "colab_type": "text"
      },
      "source": [
        "<a href=\"https://colab.research.google.com/github/avyaktawrat/Evaluat-inator/blob/master/Auto_encoders.ipynb\" target=\"_parent\"><img src=\"https://colab.research.google.com/assets/colab-badge.svg\" alt=\"Open In Colab\"/></a>"
      ]
    },
    {
      "cell_type": "code",
      "metadata": {
        "id": "1yXsgtrWOSOv",
        "colab_type": "code",
        "colab": {}
      },
      "source": [
        "import numpy as np\n",
        "import pandas as pd\n",
        "import torch\n",
        "import torch.nn as nn\n",
        "import torch.nn.parallel\n",
        "import torch.optim as optim\n",
        "import torch.utils.data\n",
        "from torch.autograd import Variable"
      ],
      "execution_count": 0,
      "outputs": []
    },
    {
      "cell_type": "code",
      "metadata": {
        "id": "DnqTiZ49OSO1",
        "colab_type": "code",
        "colab": {}
      },
      "source": [
        "movies = pd.read_csv('https://github.com/avyaktawrat/Evaluat-inator/raw/master/data/movies.dat', sep = '::', header = None, engine = 'python', encoding = 'latin-1')\n",
        "users = pd.read_csv('https://github.com/avyaktawrat/Evaluat-inator/raw/master/data/users.dat', sep = '::', header = None, engine = 'python', encoding = 'latin-1')\n",
        "ratings = pd.read_csv('https://github.com/avyaktawrat/Evaluat-inator/blob/master/data/ratings.dat?raw=true', sep = '::', header = None, engine = 'python', encoding = 'latin-1')\n",
        "\n",
        "movies.columns = ['movieID', 'title', 'genres']\n",
        "users.columns = ['userId',\t'gender',\t'age_desc',\t'occ_desc', 'zipcode']\n",
        "ratings.columns = ['userId',\t'movieId',\t'rating',\t'timestamp']"
      ],
      "execution_count": 0,
      "outputs": []
    },
    {
      "cell_type": "code",
      "metadata": {
        "id": "BOEh77PaOSO-",
        "colab_type": "code",
        "outputId": "6678732b-31b6-466a-a44e-2e395b3d1a07",
        "colab": {
          "base_uri": "https://localhost:8080/",
          "height": 202
        }
      },
      "source": [
        "movies.head()"
      ],
      "execution_count": 0,
      "outputs": [
        {
          "output_type": "execute_result",
          "data": {
            "text/html": [
              "<div>\n",
              "<style scoped>\n",
              "    .dataframe tbody tr th:only-of-type {\n",
              "        vertical-align: middle;\n",
              "    }\n",
              "\n",
              "    .dataframe tbody tr th {\n",
              "        vertical-align: top;\n",
              "    }\n",
              "\n",
              "    .dataframe thead th {\n",
              "        text-align: right;\n",
              "    }\n",
              "</style>\n",
              "<table border=\"1\" class=\"dataframe\">\n",
              "  <thead>\n",
              "    <tr style=\"text-align: right;\">\n",
              "      <th></th>\n",
              "      <th>movieID</th>\n",
              "      <th>title</th>\n",
              "      <th>genres</th>\n",
              "    </tr>\n",
              "  </thead>\n",
              "  <tbody>\n",
              "    <tr>\n",
              "      <th>0</th>\n",
              "      <td>1</td>\n",
              "      <td>Toy Story (1995)</td>\n",
              "      <td>Animation|Children's|Comedy</td>\n",
              "    </tr>\n",
              "    <tr>\n",
              "      <th>1</th>\n",
              "      <td>2</td>\n",
              "      <td>Jumanji (1995)</td>\n",
              "      <td>Adventure|Children's|Fantasy</td>\n",
              "    </tr>\n",
              "    <tr>\n",
              "      <th>2</th>\n",
              "      <td>3</td>\n",
              "      <td>Grumpier Old Men (1995)</td>\n",
              "      <td>Comedy|Romance</td>\n",
              "    </tr>\n",
              "    <tr>\n",
              "      <th>3</th>\n",
              "      <td>4</td>\n",
              "      <td>Waiting to Exhale (1995)</td>\n",
              "      <td>Comedy|Drama</td>\n",
              "    </tr>\n",
              "    <tr>\n",
              "      <th>4</th>\n",
              "      <td>5</td>\n",
              "      <td>Father of the Bride Part II (1995)</td>\n",
              "      <td>Comedy</td>\n",
              "    </tr>\n",
              "  </tbody>\n",
              "</table>\n",
              "</div>"
            ],
            "text/plain": [
              "   movieID                               title                        genres\n",
              "0        1                    Toy Story (1995)   Animation|Children's|Comedy\n",
              "1        2                      Jumanji (1995)  Adventure|Children's|Fantasy\n",
              "2        3             Grumpier Old Men (1995)                Comedy|Romance\n",
              "3        4            Waiting to Exhale (1995)                  Comedy|Drama\n",
              "4        5  Father of the Bride Part II (1995)                        Comedy"
            ]
          },
          "metadata": {
            "tags": []
          },
          "execution_count": 37
        }
      ]
    },
    {
      "cell_type": "code",
      "metadata": {
        "id": "sUc_Ph-cOSPF",
        "colab_type": "code",
        "outputId": "733ebf58-0419-4bfb-b47f-f59a5ee5a810",
        "colab": {
          "base_uri": "https://localhost:8080/",
          "height": 202
        }
      },
      "source": [
        "users.head()"
      ],
      "execution_count": 0,
      "outputs": [
        {
          "output_type": "execute_result",
          "data": {
            "text/html": [
              "<div>\n",
              "<style scoped>\n",
              "    .dataframe tbody tr th:only-of-type {\n",
              "        vertical-align: middle;\n",
              "    }\n",
              "\n",
              "    .dataframe tbody tr th {\n",
              "        vertical-align: top;\n",
              "    }\n",
              "\n",
              "    .dataframe thead th {\n",
              "        text-align: right;\n",
              "    }\n",
              "</style>\n",
              "<table border=\"1\" class=\"dataframe\">\n",
              "  <thead>\n",
              "    <tr style=\"text-align: right;\">\n",
              "      <th></th>\n",
              "      <th>userId</th>\n",
              "      <th>gender</th>\n",
              "      <th>age_desc</th>\n",
              "      <th>occ_desc</th>\n",
              "      <th>zipcode</th>\n",
              "    </tr>\n",
              "  </thead>\n",
              "  <tbody>\n",
              "    <tr>\n",
              "      <th>0</th>\n",
              "      <td>1</td>\n",
              "      <td>F</td>\n",
              "      <td>1</td>\n",
              "      <td>10</td>\n",
              "      <td>48067</td>\n",
              "    </tr>\n",
              "    <tr>\n",
              "      <th>1</th>\n",
              "      <td>2</td>\n",
              "      <td>M</td>\n",
              "      <td>56</td>\n",
              "      <td>16</td>\n",
              "      <td>70072</td>\n",
              "    </tr>\n",
              "    <tr>\n",
              "      <th>2</th>\n",
              "      <td>3</td>\n",
              "      <td>M</td>\n",
              "      <td>25</td>\n",
              "      <td>15</td>\n",
              "      <td>55117</td>\n",
              "    </tr>\n",
              "    <tr>\n",
              "      <th>3</th>\n",
              "      <td>4</td>\n",
              "      <td>M</td>\n",
              "      <td>45</td>\n",
              "      <td>7</td>\n",
              "      <td>02460</td>\n",
              "    </tr>\n",
              "    <tr>\n",
              "      <th>4</th>\n",
              "      <td>5</td>\n",
              "      <td>M</td>\n",
              "      <td>25</td>\n",
              "      <td>20</td>\n",
              "      <td>55455</td>\n",
              "    </tr>\n",
              "  </tbody>\n",
              "</table>\n",
              "</div>"
            ],
            "text/plain": [
              "   userId gender  age_desc  occ_desc zipcode\n",
              "0       1      F         1        10   48067\n",
              "1       2      M        56        16   70072\n",
              "2       3      M        25        15   55117\n",
              "3       4      M        45         7   02460\n",
              "4       5      M        25        20   55455"
            ]
          },
          "metadata": {
            "tags": []
          },
          "execution_count": 38
        }
      ]
    },
    {
      "cell_type": "code",
      "metadata": {
        "id": "u-CV0clBOSPL",
        "colab_type": "code",
        "outputId": "d5e286f9-6c79-49f6-9416-23c1f7443479",
        "colab": {
          "base_uri": "https://localhost:8080/",
          "height": 202
        }
      },
      "source": [
        "ratings.head()"
      ],
      "execution_count": 0,
      "outputs": [
        {
          "output_type": "execute_result",
          "data": {
            "text/html": [
              "<div>\n",
              "<style scoped>\n",
              "    .dataframe tbody tr th:only-of-type {\n",
              "        vertical-align: middle;\n",
              "    }\n",
              "\n",
              "    .dataframe tbody tr th {\n",
              "        vertical-align: top;\n",
              "    }\n",
              "\n",
              "    .dataframe thead th {\n",
              "        text-align: right;\n",
              "    }\n",
              "</style>\n",
              "<table border=\"1\" class=\"dataframe\">\n",
              "  <thead>\n",
              "    <tr style=\"text-align: right;\">\n",
              "      <th></th>\n",
              "      <th>userId</th>\n",
              "      <th>movieId</th>\n",
              "      <th>rating</th>\n",
              "      <th>timestamp</th>\n",
              "    </tr>\n",
              "  </thead>\n",
              "  <tbody>\n",
              "    <tr>\n",
              "      <th>0</th>\n",
              "      <td>1</td>\n",
              "      <td>1193</td>\n",
              "      <td>5</td>\n",
              "      <td>978300760</td>\n",
              "    </tr>\n",
              "    <tr>\n",
              "      <th>1</th>\n",
              "      <td>1</td>\n",
              "      <td>661</td>\n",
              "      <td>3</td>\n",
              "      <td>978302109</td>\n",
              "    </tr>\n",
              "    <tr>\n",
              "      <th>2</th>\n",
              "      <td>1</td>\n",
              "      <td>914</td>\n",
              "      <td>3</td>\n",
              "      <td>978301968</td>\n",
              "    </tr>\n",
              "    <tr>\n",
              "      <th>3</th>\n",
              "      <td>1</td>\n",
              "      <td>3408</td>\n",
              "      <td>4</td>\n",
              "      <td>978300275</td>\n",
              "    </tr>\n",
              "    <tr>\n",
              "      <th>4</th>\n",
              "      <td>1</td>\n",
              "      <td>2355</td>\n",
              "      <td>5</td>\n",
              "      <td>978824291</td>\n",
              "    </tr>\n",
              "  </tbody>\n",
              "</table>\n",
              "</div>"
            ],
            "text/plain": [
              "   userId  movieId  rating  timestamp\n",
              "0       1     1193       5  978300760\n",
              "1       1      661       3  978302109\n",
              "2       1      914       3  978301968\n",
              "3       1     3408       4  978300275\n",
              "4       1     2355       5  978824291"
            ]
          },
          "metadata": {
            "tags": []
          },
          "execution_count": 39
        }
      ]
    },
    {
      "cell_type": "code",
      "metadata": {
        "id": "_mqWGGhCOSPk",
        "colab_type": "code",
        "colab": {}
      },
      "source": [
        "### Here we will not use this 1 million data set instead we will use its subset u1base and u1test, there are 5 such different subsets"
      ],
      "execution_count": 0,
      "outputs": []
    },
    {
      "cell_type": "code",
      "metadata": {
        "id": "eQkySWcZm9V4",
        "colab_type": "code",
        "colab": {}
      },
      "source": [
        "from sklearn.model_selection import KFold"
      ],
      "execution_count": 0,
      "outputs": []
    },
    {
      "cell_type": "code",
      "metadata": {
        "id": "OdnBNsQjpcu3",
        "colab_type": "code",
        "colab": {}
      },
      "source": [
        "cv = KFold(5, True, random_state=42)"
      ],
      "execution_count": 0,
      "outputs": []
    },
    {
      "cell_type": "code",
      "metadata": {
        "id": "2jPNyIFdtRGl",
        "colab_type": "code",
        "colab": {}
      },
      "source": [
        "ratings_np = ratings.to_numpy()"
      ],
      "execution_count": 0,
      "outputs": []
    },
    {
      "cell_type": "code",
      "metadata": {
        "id": "l8YuZ1s7qD8b",
        "colab_type": "code",
        "outputId": "d594298e-c164-4457-dee6-e9c8a1916594",
        "colab": {
          "base_uri": "https://localhost:8080/",
          "height": 139
        }
      },
      "source": [
        "for train, test in cv.split(ratings_np):\n",
        "  training_set = ratings_np[train]\n",
        "  test_set = ratings_np[test]\n",
        "  break\n",
        "print('train: %s, test: %s' % (training_set, test_set.shape))"
      ],
      "execution_count": 0,
      "outputs": [
        {
          "output_type": "stream",
          "text": [
            "train: [[        1       661         3 978302109]\n",
            " [        1       914         3 978301968]\n",
            " [        1      3408         4 978300275]\n",
            " ...\n",
            " [     6040      1094         5 956704887]\n",
            " [     6040      1096         4 956715648]\n",
            " [     6040      1097         4 956715569]], test: (200042, 4)\n"
          ],
          "name": "stdout"
        }
      ]
    },
    {
      "cell_type": "code",
      "metadata": {
        "id": "zeiarnNZOSPn",
        "colab_type": "code",
        "colab": {}
      },
      "source": [
        "# Preparing the training set and the test set\n",
        "# training_set = pd.read_csv('u1.base', delimiter = '\\t')\n",
        "# print(training_set.head())\n",
        "# training_set = np.array(training_set, dtype = 'int')\n",
        "# test_set = pd.read_csv('u1.test', delimiter = '\\t')\n",
        "# test_set = np.array(test_set, dtype = 'int')"
      ],
      "execution_count": 0,
      "outputs": []
    },
    {
      "cell_type": "code",
      "metadata": {
        "id": "OY2gue1XjeDT",
        "colab_type": "code",
        "outputId": "b48db0ed-82b4-48a9-9c5f-d5c5366a2a47",
        "colab": {
          "base_uri": "https://localhost:8080/",
          "height": 35
        }
      },
      "source": [
        "training_set.shape"
      ],
      "execution_count": 0,
      "outputs": [
        {
          "output_type": "execute_result",
          "data": {
            "text/plain": [
              "(800167, 4)"
            ]
          },
          "metadata": {
            "tags": []
          },
          "execution_count": 46
        }
      ]
    },
    {
      "cell_type": "code",
      "metadata": {
        "id": "E38bv3m9OSPr",
        "colab_type": "code",
        "colab": {}
      },
      "source": [
        "np.save('training_set.npy',training_set)\n",
        "np.save('test_set.npy',test_set)"
      ],
      "execution_count": 0,
      "outputs": []
    },
    {
      "cell_type": "code",
      "metadata": {
        "id": "kjhC4lwZOSPv",
        "colab_type": "code",
        "colab": {}
      },
      "source": [
        "# training_set = np.load('training_set.npy')"
      ],
      "execution_count": 0,
      "outputs": []
    },
    {
      "cell_type": "code",
      "metadata": {
        "id": "hNGJV-LqOSPy",
        "colab_type": "code",
        "colab": {}
      },
      "source": [
        "# test_set = np.load('test_set.npy')"
      ],
      "execution_count": 0,
      "outputs": []
    },
    {
      "cell_type": "code",
      "metadata": {
        "id": "7DSFpNgiOSP3",
        "colab_type": "code",
        "colab": {}
      },
      "source": [
        "# Getting the number of users and movies\n",
        "nb_users = int(max(max(training_set[:,0]), max(test_set[:,0])))\n",
        "nb_movies = int(max(max(training_set[:,1]), max(test_set[:,1])))"
      ],
      "execution_count": 0,
      "outputs": []
    },
    {
      "cell_type": "code",
      "metadata": {
        "id": "3xO0kF5mOSP7",
        "colab_type": "code",
        "colab": {}
      },
      "source": [
        "# Why doing this ? Because we want to create a new structure of data, having the shape of a 2d array where:\n",
        "\n",
        "#    the rows are the users,\n",
        "#    the columns are the movies,\n",
        "#    the cells are the ratings."
      ],
      "execution_count": 0,
      "outputs": []
    },
    {
      "cell_type": "code",
      "metadata": {
        "id": "IkK3_sOpOSQA",
        "colab_type": "code",
        "colab": {}
      },
      "source": [
        "def convert(data):\n",
        "    new_data = []\n",
        "    for id_users in range(1,nb_users+1):\n",
        "        id_movies = data[:,1][data[:,0] == id_users]\n",
        "        id_ratings = data[:,2][data[:,0] == id_users]\n",
        "        #all rows such that first coloumn is id_users\n",
        "        ratings = np.zeros(nb_movies)\n",
        "        ratings[id_movies - 1] = id_ratings\n",
        "        new_data.append(list(ratings))\n",
        "    return new_data"
      ],
      "execution_count": 0,
      "outputs": []
    },
    {
      "cell_type": "code",
      "metadata": {
        "id": "fFDuPwFXOSQD",
        "colab_type": "code",
        "colab": {}
      },
      "source": [
        "training_set = convert(training_set)"
      ],
      "execution_count": 0,
      "outputs": []
    },
    {
      "cell_type": "code",
      "metadata": {
        "id": "YZCudMJdOSQI",
        "colab_type": "code",
        "colab": {}
      },
      "source": [
        "test_set = convert(test_set)"
      ],
      "execution_count": 0,
      "outputs": []
    },
    {
      "cell_type": "code",
      "metadata": {
        "id": "H0bsC80mOSQP",
        "colab_type": "code",
        "colab": {}
      },
      "source": [
        "np.save('training_set_proc.npy',training_set)\n",
        "np.save('test_set_proc.npy',test_set)\n",
        "# training_set = np.load('training_set_proc.npy')\n",
        "# test_set = np.load('test_set_proc.npy')"
      ],
      "execution_count": 0,
      "outputs": []
    },
    {
      "cell_type": "code",
      "metadata": {
        "id": "DAW_30W6OSQV",
        "colab_type": "code",
        "colab": {}
      },
      "source": [
        "training_set = torch.FloatTensor(training_set)\n",
        "test_set = torch.FloatTensor(test_set)"
      ],
      "execution_count": 0,
      "outputs": []
    },
    {
      "cell_type": "code",
      "metadata": {
        "id": "orK7CySpOSQX",
        "colab_type": "code",
        "colab": {}
      },
      "source": [
        "class SAE(nn.Module):\n",
        "    def __init__(self, ):\n",
        "        # super function is used to use classes of parent class\n",
        "        super(SAE,self).__init__()\n",
        "        # by this we can get all the inherited classes of nn.Module\n",
        "        # first argument is the features, second is the the number of units\n",
        "        self.fc1 = nn.Linear(nb_movies, 20)\n",
        "        self.fc2 = nn.Linear(20,10) #second layer has 10 neurons\n",
        "        self.fc3 = nn.Linear(10,20)\n",
        "        self.fc4 = nn.Linear(20,nb_movies)\n",
        "        self.activation = nn.Sigmoid()\n",
        "        self.activation_t = nn.Tanh()\n",
        "    def forward(self, x):\n",
        "        x = self.activation(self.fc1(x))\n",
        "        x = self.activation_t(self.fc2(x))\n",
        "        x = self.activation(self.fc3(x))\n",
        "        x = self.fc4(x)\n",
        "        return x"
      ],
      "execution_count": 0,
      "outputs": []
    },
    {
      "cell_type": "code",
      "metadata": {
        "id": "qsnhixn0OSQb",
        "colab_type": "code",
        "colab": {}
      },
      "source": [
        "sae = SAE()\n",
        "criterion = nn.MSELoss()\n",
        "optimizer = optim.Adam(sae.parameters(),lr=0.01,weight_decay=0.5)\n",
        "#decay is used for regulating the steps of the optimizer"
      ],
      "execution_count": 0,
      "outputs": []
    },
    {
      "cell_type": "code",
      "metadata": {
        "id": "d72X1Jc7OSQk",
        "colab_type": "code",
        "colab": {}
      },
      "source": [
        "#Training the AutoEncoders"
      ],
      "execution_count": 0,
      "outputs": []
    },
    {
      "cell_type": "code",
      "metadata": {
        "id": "I6wxSi5eOSQp",
        "colab_type": "code",
        "colab": {}
      },
      "source": [
        "nb_epoch = 200"
      ],
      "execution_count": 0,
      "outputs": []
    },
    {
      "cell_type": "code",
      "metadata": {
        "id": "f9BVX1RdOSQu",
        "colab_type": "code",
        "outputId": "25f25b18-69cc-4ca8-c185-79cce87b53c6",
        "colab": {
          "base_uri": "https://localhost:8080/",
          "height": 1000
        }
      },
      "source": [
        "for epoch in range(1,nb_epoch+1):\n",
        "    train_loss = 0\n",
        "    #number of users who at least rated one movie to reduce the computation\n",
        "    s = 0. #RMSE needs a float\n",
        "    for id_user in range(nb_users):\n",
        "        input = Variable(training_set[id_user,:]).unsqueeze(0) #dimension for a batch is also added here on the 0th axis\n",
        "        #weights in this code are updated after each i/p vector\n",
        "        target = input.clone() #target is the input\n",
        "        if torch.sum(target.data > 0) > 0:\n",
        "            # if the user has rated atleast one movie\n",
        "            output = sae(input) #predicted ratings are returned for this particular user\n",
        "            target.require_grad = False #gradient is a clone of i/p so now its gradient won't be calculated\n",
        "            output[target == 0] = 0 #These are zeros so they don't need to be included in the computation\n",
        "            loss = criterion(output, target)\n",
        "            mean_corrector = nb_movies/float(torch.sum(target.data > 0) + 1e-10) #denominator should not be zero\n",
        "            # it is the average of the error with non-zero ratings\n",
        "            loss.backward()\n",
        "            train_loss = train_loss + np.sqrt(loss.detach()*mean_corrector) #loss.data[0] is the loss value\n",
        "            s= s+1\n",
        "            optimizer.step()\n",
        "            # backward decides the direction(increased or decreased) of the weights and optimizer decides their intensities\n",
        "    print('epoch: '+str(epoch)+ 'loss: '+ str(train_loss/s)) #train loss divided by number of users with atleast one rating\n",
        "    "
      ],
      "execution_count": 0,
      "outputs": [
        {
          "output_type": "stream",
          "text": [
            "epoch: 1loss: tensor(1.3373)\n",
            "epoch: 2loss: tensor(1.0004)\n",
            "epoch: 3loss: tensor(0.9820)\n",
            "epoch: 4loss: tensor(0.9758)\n",
            "epoch: 5loss: tensor(0.9730)\n",
            "epoch: 6loss: tensor(0.9714)\n",
            "epoch: 7loss: tensor(0.9704)\n",
            "epoch: 8loss: tensor(0.9697)\n",
            "epoch: 9loss: tensor(0.9692)\n",
            "epoch: 10loss: tensor(0.9688)\n",
            "epoch: 11loss: tensor(0.9685)\n",
            "epoch: 12loss: tensor(0.9683)\n",
            "epoch: 13loss: tensor(0.9681)\n",
            "epoch: 14loss: tensor(0.9680)\n",
            "epoch: 15loss: tensor(0.9678)\n",
            "epoch: 16loss: tensor(0.9677)\n",
            "epoch: 17loss: tensor(0.9676)\n",
            "epoch: 18loss: tensor(0.9675)\n",
            "epoch: 19loss: tensor(0.9674)\n",
            "epoch: 20loss: tensor(0.9674)\n",
            "epoch: 21loss: tensor(0.9673)\n",
            "epoch: 22loss: tensor(0.9673)\n",
            "epoch: 23loss: tensor(0.9672)\n",
            "epoch: 24loss: tensor(0.9672)\n",
            "epoch: 25loss: tensor(0.9671)\n",
            "epoch: 26loss: tensor(0.9671)\n",
            "epoch: 27loss: tensor(0.9670)\n",
            "epoch: 28loss: tensor(0.9670)\n",
            "epoch: 29loss: tensor(0.9670)\n",
            "epoch: 30loss: tensor(0.9670)\n",
            "epoch: 31loss: tensor(0.9669)\n",
            "epoch: 32loss: tensor(0.9669)\n",
            "epoch: 33loss: tensor(0.9669)\n",
            "epoch: 34loss: tensor(0.9669)\n",
            "epoch: 35loss: tensor(0.9668)\n",
            "epoch: 36loss: tensor(0.9668)\n",
            "epoch: 37loss: tensor(0.9668)\n",
            "epoch: 38loss: tensor(0.9668)\n",
            "epoch: 39loss: tensor(0.9668)\n",
            "epoch: 40loss: tensor(0.9668)\n",
            "epoch: 41loss: tensor(0.9667)\n",
            "epoch: 42loss: tensor(0.9667)\n",
            "epoch: 43loss: tensor(0.9667)\n",
            "epoch: 44loss: tensor(0.9667)\n",
            "epoch: 45loss: tensor(0.9667)\n",
            "epoch: 46loss: tensor(0.9667)\n",
            "epoch: 47loss: tensor(0.9667)\n",
            "epoch: 48loss: tensor(0.9659)\n",
            "epoch: 49loss: tensor(0.9651)\n",
            "epoch: 50loss: tensor(0.9646)\n",
            "epoch: 51loss: tensor(0.9647)\n",
            "epoch: 52loss: tensor(0.9644)\n",
            "epoch: 53loss: tensor(0.9637)\n",
            "epoch: 54loss: tensor(0.9639)\n",
            "epoch: 55loss: tensor(0.9637)\n",
            "epoch: 56loss: tensor(0.9621)\n",
            "epoch: 57loss: tensor(0.9606)\n",
            "epoch: 58loss: tensor(0.9609)\n",
            "epoch: 59loss: tensor(0.9588)\n",
            "epoch: 60loss: tensor(0.9608)\n",
            "epoch: 61loss: tensor(0.9612)\n",
            "epoch: 62loss: tensor(0.9609)\n",
            "epoch: 63loss: tensor(0.9607)\n",
            "epoch: 64loss: tensor(0.9602)\n",
            "epoch: 65loss: tensor(0.9591)\n",
            "epoch: 66loss: tensor(0.9617)\n",
            "epoch: 67loss: tensor(0.9610)\n",
            "epoch: 68loss: tensor(0.9601)\n",
            "epoch: 69loss: tensor(0.9603)\n",
            "epoch: 70loss: tensor(0.9585)\n",
            "epoch: 71loss: tensor(0.9582)\n",
            "epoch: 72loss: tensor(0.9570)\n",
            "epoch: 73loss: tensor(0.9549)\n",
            "epoch: 74loss: tensor(0.9538)\n",
            "epoch: 75loss: tensor(0.9523)\n",
            "epoch: 76loss: tensor(0.9540)\n",
            "epoch: 77loss: tensor(0.9534)\n",
            "epoch: 78loss: tensor(0.9514)\n",
            "epoch: 79loss: tensor(0.9521)\n",
            "epoch: 80loss: tensor(0.9508)\n",
            "epoch: 81loss: tensor(0.9509)\n",
            "epoch: 82loss: tensor(0.9508)\n",
            "epoch: 83loss: tensor(0.9530)\n",
            "epoch: 84loss: tensor(0.9508)\n",
            "epoch: 85loss: tensor(0.9495)\n",
            "epoch: 86loss: tensor(0.9482)\n",
            "epoch: 87loss: tensor(0.9468)\n",
            "epoch: 88loss: tensor(0.9438)\n",
            "epoch: 89loss: tensor(0.9415)\n",
            "epoch: 90loss: tensor(0.9404)\n",
            "epoch: 91loss: tensor(0.9411)\n",
            "epoch: 92loss: tensor(0.9404)\n",
            "epoch: 93loss: tensor(0.9362)\n",
            "epoch: 94loss: tensor(0.9352)\n",
            "epoch: 95loss: tensor(0.9335)\n",
            "epoch: 96loss: tensor(0.9365)\n",
            "epoch: 97loss: tensor(0.9345)\n",
            "epoch: 98loss: tensor(0.9334)\n",
            "epoch: 99loss: tensor(0.9314)\n",
            "epoch: 100loss: tensor(0.9285)\n",
            "epoch: 101loss: tensor(0.9279)\n",
            "epoch: 102loss: tensor(0.9326)\n",
            "epoch: 103loss: tensor(0.9290)\n",
            "epoch: 104loss: tensor(0.9310)\n",
            "epoch: 105loss: tensor(0.9302)\n",
            "epoch: 106loss: tensor(0.9285)\n",
            "epoch: 107loss: tensor(0.9268)\n",
            "epoch: 108loss: tensor(0.9258)\n",
            "epoch: 109loss: tensor(0.9241)\n",
            "epoch: 110loss: tensor(0.9258)\n",
            "epoch: 111loss: tensor(0.9225)\n",
            "epoch: 112loss: tensor(0.9209)\n",
            "epoch: 113loss: tensor(0.9213)\n",
            "epoch: 114loss: tensor(0.9192)\n",
            "epoch: 115loss: tensor(0.9175)\n",
            "epoch: 116loss: tensor(0.9175)\n",
            "epoch: 117loss: tensor(0.9203)\n",
            "epoch: 118loss: tensor(0.9184)\n",
            "epoch: 119loss: tensor(0.9167)\n",
            "epoch: 120loss: tensor(0.9141)\n",
            "epoch: 121loss: tensor(0.9116)\n",
            "epoch: 122loss: tensor(0.9129)\n",
            "epoch: 123loss: tensor(0.9142)\n",
            "epoch: 124loss: tensor(0.9163)\n",
            "epoch: 125loss: tensor(0.9177)\n",
            "epoch: 126loss: tensor(0.9165)\n",
            "epoch: 127loss: tensor(0.9128)\n",
            "epoch: 128loss: tensor(0.9097)\n",
            "epoch: 129loss: tensor(0.9075)\n",
            "epoch: 130loss: tensor(0.9070)\n",
            "epoch: 131loss: tensor(0.9045)\n",
            "epoch: 132loss: tensor(0.9040)\n",
            "epoch: 133loss: tensor(0.9020)\n",
            "epoch: 134loss: tensor(0.9002)\n",
            "epoch: 135loss: tensor(0.8997)\n",
            "epoch: 136loss: tensor(0.9000)\n",
            "epoch: 137loss: tensor(0.8995)\n",
            "epoch: 138loss: tensor(0.8984)\n",
            "epoch: 139loss: tensor(0.8966)\n",
            "epoch: 140loss: tensor(0.8966)\n",
            "epoch: 141loss: tensor(0.8959)\n",
            "epoch: 142loss: tensor(0.8943)\n",
            "epoch: 143loss: tensor(0.8944)\n",
            "epoch: 144loss: tensor(0.8946)\n",
            "epoch: 145loss: tensor(0.8958)\n",
            "epoch: 146loss: tensor(0.8936)\n",
            "epoch: 147loss: tensor(0.8926)\n",
            "epoch: 148loss: tensor(0.8935)\n",
            "epoch: 149loss: tensor(0.8969)\n",
            "epoch: 150loss: tensor(0.8935)\n",
            "epoch: 151loss: tensor(0.8916)\n",
            "epoch: 152loss: tensor(0.8899)\n",
            "epoch: 153loss: tensor(0.8890)\n",
            "epoch: 154loss: tensor(0.8879)\n",
            "epoch: 155loss: tensor(0.8878)\n",
            "epoch: 156loss: tensor(0.8886)\n",
            "epoch: 157loss: tensor(0.8882)\n",
            "epoch: 158loss: tensor(0.8872)\n",
            "epoch: 159loss: tensor(0.8867)\n",
            "epoch: 160loss: tensor(0.8869)\n",
            "epoch: 161loss: tensor(0.8875)\n",
            "epoch: 162loss: tensor(0.8875)\n",
            "epoch: 163loss: tensor(0.8858)\n",
            "epoch: 164loss: tensor(0.8848)\n",
            "epoch: 165loss: tensor(0.8841)\n",
            "epoch: 166loss: tensor(0.8940)\n",
            "epoch: 167loss: tensor(0.8923)\n",
            "epoch: 168loss: tensor(0.8852)\n",
            "epoch: 169loss: tensor(0.8865)\n",
            "epoch: 170loss: tensor(0.8850)\n",
            "epoch: 171loss: tensor(0.8835)\n",
            "epoch: 172loss: tensor(0.8826)\n",
            "epoch: 173loss: tensor(0.8822)\n",
            "epoch: 174loss: tensor(0.8814)\n",
            "epoch: 175loss: tensor(0.8814)\n",
            "epoch: 176loss: tensor(0.8822)\n",
            "epoch: 177loss: tensor(0.8807)\n",
            "epoch: 178loss: tensor(0.8811)\n",
            "epoch: 179loss: tensor(0.8799)\n",
            "epoch: 180loss: tensor(0.8793)\n",
            "epoch: 181loss: tensor(0.8807)\n",
            "epoch: 182loss: tensor(0.8806)\n",
            "epoch: 183loss: tensor(0.8812)\n",
            "epoch: 184loss: tensor(0.8803)\n",
            "epoch: 185loss: tensor(0.8825)\n",
            "epoch: 186loss: tensor(0.8792)\n",
            "epoch: 187loss: tensor(0.8784)\n",
            "epoch: 188loss: tensor(0.8780)\n",
            "epoch: 189loss: tensor(0.8780)\n",
            "epoch: 190loss: tensor(0.8775)\n",
            "epoch: 191loss: tensor(0.8772)\n",
            "epoch: 192loss: tensor(0.8785)\n",
            "epoch: 193loss: tensor(0.8844)\n",
            "epoch: 194loss: tensor(0.8802)\n",
            "epoch: 195loss: tensor(0.8788)\n",
            "epoch: 196loss: tensor(0.8780)\n",
            "epoch: 197loss: tensor(0.8796)\n",
            "epoch: 198loss: tensor(0.8782)\n",
            "epoch: 199loss: tensor(0.8789)\n",
            "epoch: 200loss: tensor(0.8782)\n"
          ],
          "name": "stdout"
        }
      ]
    },
    {
      "cell_type": "code",
      "metadata": {
        "id": "-i3c5r9xOSQx",
        "colab_type": "code",
        "outputId": "208c3dcb-0ffd-4b77-9f93-1feb7b6a9ffd",
        "colab": {
          "base_uri": "https://localhost:8080/",
          "height": 35
        }
      },
      "source": [
        "test_loss = 0\n",
        "s = 0.\n",
        "for id_user in range(nb_users):\n",
        "    input = Variable(training_set[id_user,:]).unsqueeze(0) #because we are predicting ratings for that user\n",
        "    target = Variable(test_set[id_user,:]).unsqueeze(0)\n",
        "    if torch.sum(target.data > 0) > 0:\n",
        "        s+=1.\n",
        "        output = sae(input)\n",
        "        target.require_grad = False\n",
        "        output[target == 0] = 0\n",
        "        pred_loss = criterion(output, target)\n",
        "        mean_corrector = nb_movies/float(torch.sum(target.data > 0) + 1e-10)\n",
        "        test_loss += np.sqrt(pred_loss.detach()*mean_corrector)\n",
        "print('test loss: '+ str(test_loss/s))"
      ],
      "execution_count": 0,
      "outputs": [
        {
          "output_type": "stream",
          "text": [
            "test loss: tensor(0.9130)\n"
          ],
          "name": "stdout"
        }
      ]
    },
    {
      "cell_type": "code",
      "metadata": {
        "id": "cVcQpF_uOSQz",
        "colab_type": "code",
        "colab": {}
      },
      "source": [
        ""
      ],
      "execution_count": 0,
      "outputs": []
    }
  ]
}